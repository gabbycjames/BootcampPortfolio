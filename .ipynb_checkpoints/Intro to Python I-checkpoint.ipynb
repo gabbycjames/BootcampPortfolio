{
 "cells": [
  {
   "cell_type": "code",
   "execution_count": 1,
   "id": "6a1168f8",
   "metadata": {},
   "outputs": [],
   "source": [
    "v1 = \"first string\""
   ]
  },
  {
   "cell_type": "code",
   "execution_count": 2,
   "id": "de2dd4a9",
   "metadata": {},
   "outputs": [],
   "source": [
    "v2 = \"second string\""
   ]
  },
  {
   "cell_type": "code",
   "execution_count": 3,
   "id": "f9a02584",
   "metadata": {},
   "outputs": [],
   "source": [
    "#try swapping these variables\n",
    "a = v1\n",
    "b = v2"
   ]
  },
  {
   "cell_type": "code",
   "execution_count": 4,
   "id": "cc4fc576",
   "metadata": {},
   "outputs": [
    {
     "name": "stdout",
     "output_type": "stream",
     "text": [
      "first string\n",
      "second string\n"
     ]
    }
   ],
   "source": [
    "print(a)\n",
    "print(b)\n"
   ]
  },
  {
   "cell_type": "code",
   "execution_count": 5,
   "id": "351e4aa0",
   "metadata": {},
   "outputs": [],
   "source": [
    "v1 = b\n",
    "v2 = a"
   ]
  },
  {
   "cell_type": "code",
   "execution_count": 6,
   "id": "5ed2e53f",
   "metadata": {},
   "outputs": [
    {
     "name": "stdout",
     "output_type": "stream",
     "text": [
      "second string\n",
      "first string\n"
     ]
    }
   ],
   "source": [
    "print(v1)\n",
    "print(v2)\n"
   ]
  },
  {
   "cell_type": "code",
   "execution_count": 7,
   "id": "1e094060",
   "metadata": {},
   "outputs": [],
   "source": [
    "#below is the best way to swap these variables\n",
    "#use a temp variable\n",
    "v1 = \"first string\"\n",
    "v2 = \"second string\"\n",
    "temp = v1\n",
    "v1 = v2\n",
    "v2 = temp"
   ]
  },
  {
   "cell_type": "code",
   "execution_count": 8,
   "id": "b5333f9a",
   "metadata": {},
   "outputs": [
    {
     "name": "stdout",
     "output_type": "stream",
     "text": [
      "second string\n",
      "first string\n"
     ]
    }
   ],
   "source": [
    "print(v1)\n",
    "print(v2)"
   ]
  },
  {
   "cell_type": "code",
   "execution_count": 9,
   "id": "71fa7cf1",
   "metadata": {},
   "outputs": [
    {
     "name": "stdout",
     "output_type": "stream",
     "text": [
      "What is your name? Gabby\n",
      "Hello Gabby\n"
     ]
    }
   ],
   "source": [
    "name = input(\"What is your name? \")\n",
    "print(\"Hello \" + name)"
   ]
  },
  {
   "cell_type": "code",
   "execution_count": 10,
   "id": "eda0fddb",
   "metadata": {},
   "outputs": [
    {
     "data": {
      "text/plain": [
       "True"
      ]
     },
     "execution_count": 10,
     "metadata": {},
     "output_type": "execute_result"
    }
   ],
   "source": [
    "#Data Types in Python\n",
    "#Numbers\n",
    "10\n",
    "#Strings\n",
    "\"Mosh\"\n",
    "#Booleans\n",
    "True"
   ]
  },
  {
   "cell_type": "code",
   "execution_count": 14,
   "id": "cd0363d7",
   "metadata": {},
   "outputs": [
    {
     "name": "stdout",
     "output_type": "stream",
     "text": [
      "Enter your birth year: 1999\n"
     ]
    }
   ],
   "source": [
    "birth_year = input(\"Enter your birth year: \")"
   ]
  },
  {
   "cell_type": "code",
   "execution_count": 15,
   "id": "d4d06a07",
   "metadata": {},
   "outputs": [
    {
     "ename": "TypeError",
     "evalue": "unsupported operand type(s) for -: 'int' and 'str'",
     "output_type": "error",
     "traceback": [
      "\u001b[0;31m---------------------------------------------------------------------------\u001b[0m",
      "\u001b[0;31mTypeError\u001b[0m                                 Traceback (most recent call last)",
      "Cell \u001b[0;32mIn[15], line 1\u001b[0m\n\u001b[0;32m----> 1\u001b[0m age \u001b[38;5;241m=\u001b[39m \u001b[38;5;241m2023\u001b[39m \u001b[38;5;241m-\u001b[39m birth_year\n",
      "\u001b[0;31mTypeError\u001b[0m: unsupported operand type(s) for -: 'int' and 'str'"
     ]
    }
   ],
   "source": [
    "age = 2023 - birth_year"
   ]
  },
  {
   "cell_type": "code",
   "execution_count": null,
   "id": "f8b5a5d9",
   "metadata": {},
   "outputs": [],
   "source": [
    "print(age)"
   ]
  },
  {
   "cell_type": "code",
   "execution_count": null,
   "id": "45cb9845",
   "metadata": {},
   "outputs": [],
   "source": [
    "#age = 2023 - birth_year didn't work because it is trying to combine two types of data (integers and strings)\n"
   ]
  },
  {
   "cell_type": "code",
   "execution_count": 17,
   "id": "49800770",
   "metadata": {},
   "outputs": [],
   "source": [
    "age = 2023 - int(birth_year)"
   ]
  },
  {
   "cell_type": "code",
   "execution_count": 18,
   "id": "14363259",
   "metadata": {},
   "outputs": [
    {
     "name": "stdout",
     "output_type": "stream",
     "text": [
      "24\n"
     ]
    }
   ],
   "source": [
    "print(age)"
   ]
  },
  {
   "cell_type": "code",
   "execution_count": null,
   "id": "1535e301",
   "metadata": {},
   "outputs": [],
   "source": [
    "#to get the code to work, we have to pass the string through an integer function like int(birth_year)\n",
    "#it converts the string birth_year into an integer"
   ]
  },
  {
   "cell_type": "code",
   "execution_count": 19,
   "id": "d3117b28",
   "metadata": {},
   "outputs": [],
   "source": [
    "#float is a number with a decimal point\n",
    "#int()\n",
    "#float()\n",
    "#bool()\n",
    "#str()\n",
    "#these are the four built in functions to convert variables"
   ]
  },
  {
   "cell_type": "code",
   "execution_count": 20,
   "id": "0e4643eb",
   "metadata": {},
   "outputs": [],
   "source": [
    "#exercise\n",
    "First: 10.1\n",
    "Second: 20\n",
    "Sum: 30.1"
   ]
  },
  {
   "cell_type": "code",
   "execution_count": 28,
   "id": "30439963",
   "metadata": {},
   "outputs": [
    {
     "name": "stdout",
     "output_type": "stream",
     "text": [
      "First: 10.1\n",
      "Second: 20\n",
      "Sum: 30.1\n"
     ]
    }
   ],
   "source": [
    "first = input(\"First: \")\n",
    "second = input(\"Second: \")\n",
    "sum = float(first) + float(second)\n",
    "print(\"Sum: \" + str(sum))"
   ]
  },
  {
   "cell_type": "code",
   "execution_count": 29,
   "id": "f4af79f9",
   "metadata": {},
   "outputs": [],
   "source": [
    "#boolean values True and False must be capitalized"
   ]
  },
  {
   "cell_type": "code",
   "execution_count": 30,
   "id": "a06cf80c",
   "metadata": {},
   "outputs": [],
   "source": [
    "#things we can do with Strings\n",
    "#strings are immutable. They cannot be changed by the object functions.\n",
    "course = \"Python for Beginners\" #storing a String object"
   ]
  },
  {
   "cell_type": "code",
   "execution_count": 31,
   "id": "41f32f58",
   "metadata": {},
   "outputs": [
    {
     "name": "stdout",
     "output_type": "stream",
     "text": [
      "PYTHON FOR BEGINNERS\n"
     ]
    }
   ],
   "source": [
    "print(course.upper())"
   ]
  },
  {
   "cell_type": "code",
   "execution_count": 32,
   "id": "b7efcc4a",
   "metadata": {},
   "outputs": [
    {
     "name": "stdout",
     "output_type": "stream",
     "text": [
      "python for beginners\n"
     ]
    }
   ],
   "source": [
    "print(course.lower())"
   ]
  },
  {
   "cell_type": "code",
   "execution_count": 34,
   "id": "69784a3f",
   "metadata": {},
   "outputs": [
    {
     "name": "stdout",
     "output_type": "stream",
     "text": [
      "1\n"
     ]
    }
   ],
   "source": [
    "print(course.find('y'))\n",
    "#remember that we count characters starting with 0"
   ]
  },
  {
   "cell_type": "code",
   "execution_count": 35,
   "id": "c265894b",
   "metadata": {},
   "outputs": [
    {
     "name": "stdout",
     "output_type": "stream",
     "text": [
      "Python 4 Beginners\n"
     ]
    }
   ],
   "source": [
    "print(course.replace('for', '4'))"
   ]
  },
  {
   "cell_type": "code",
   "execution_count": 36,
   "id": "b8e506bd",
   "metadata": {},
   "outputs": [
    {
     "name": "stdout",
     "output_type": "stream",
     "text": [
      "True\n"
     ]
    }
   ],
   "source": [
    "#using the \"In\" operator to see if something is contained in a string\n",
    "print(\"Python\" in course)"
   ]
  },
  {
   "cell_type": "code",
   "execution_count": 37,
   "id": "7e1ec0e7",
   "metadata": {},
   "outputs": [],
   "source": [
    "#division in Python can be done with / or //\n",
    "# / will give a float. // will give a rounded int\n",
    "# % will give the remainder\n",
    "#exponents are shown by **"
   ]
  },
  {
   "cell_type": "code",
   "execution_count": 38,
   "id": "f2a37f5f",
   "metadata": {},
   "outputs": [],
   "source": [
    "# x = 10\n",
    "# x = x + 3\n",
    "# x += 3 this is the same as the line above and can be done with any arithmetic function"
   ]
  },
  {
   "cell_type": "code",
   "execution_count": 39,
   "id": "1502a646",
   "metadata": {},
   "outputs": [
    {
     "name": "stdout",
     "output_type": "stream",
     "text": [
      "True\n"
     ]
    }
   ],
   "source": [
    "#Comparison operators\n",
    "x = 3 > 2 #boolean expression\n",
    "print(x)"
   ]
  },
  {
   "cell_type": "code",
   "execution_count": 40,
   "id": "e1fd148d",
   "metadata": {},
   "outputs": [
    {
     "name": "stdout",
     "output_type": "stream",
     "text": [
      "True\n"
     ]
    }
   ],
   "source": [
    "#Equality operator is == and inequality operator !=\n",
    "x = 3 != 2\n",
    "print(x)"
   ]
  },
  {
   "cell_type": "code",
   "execution_count": 43,
   "id": "89f6fe2f",
   "metadata": {},
   "outputs": [
    {
     "name": "stdout",
     "output_type": "stream",
     "text": [
      "False\n",
      "True\n"
     ]
    }
   ],
   "source": [
    "#Logical operators\n",
    "price = 5\n",
    "print(price > 10 and price < 30) #and operator\n",
    "print(price > 10 or price <30) #or operator which returns true if at least one is true"
   ]
  },
  {
   "cell_type": "code",
   "execution_count": 44,
   "id": "68a920e2",
   "metadata": {},
   "outputs": [
    {
     "name": "stdout",
     "output_type": "stream",
     "text": [
      "True\n"
     ]
    }
   ],
   "source": [
    "#not operator\n",
    "print(not price>10) #inverses any value given"
   ]
  },
  {
   "cell_type": "code",
   "execution_count": 48,
   "id": "fc522f5f",
   "metadata": {},
   "outputs": [
    {
     "name": "stdout",
     "output_type": "stream",
     "text": [
      "It's a nice day\n",
      "Done\n"
     ]
    }
   ],
   "source": [
    "#if statements\n",
    "temperature = 25\n",
    "if temperature > 30: \n",
    "    print(\"It's a hot day\") #this is indented because it will only process if the if statement is true\n",
    "    print(\"Drink plenty of water\")\n",
    "elif temperature > 20: # (this means it is between 20 and 30)\n",
    "    print(\"It's a nice day\")\n",
    "elif temperature > 10:\n",
    "    print(\"It's a bit cold\")\n",
    "else: \n",
    "    print(\"It's cold\")\n",
    "#press Shift + Tab to unindent\n",
    "print(\"Done\")"
   ]
  },
  {
   "cell_type": "code",
   "execution_count": 55,
   "id": "8835cc7a",
   "metadata": {},
   "outputs": [
    {
     "name": "stdout",
     "output_type": "stream",
     "text": [
      "Weight: 76\n",
      "(K)g or (L)bs: k\n",
      "Weight in Lbs: 167.58\n"
     ]
    }
   ],
   "source": [
    "#Write a weight converter program\n",
    "#First, ask for the person's weight\n",
    "#Second, ask if it is in (K)g or (L)bs\n",
    "#Last, return the result as the opposite\n",
    "weight = input(\"Weight: \")\n",
    "measure = input(\"(K)g or (L)bs: \")\n",
    "if measure.upper() == \"L\":\n",
    "    converted = float(weight) * 0.454\n",
    "    print(\"Weight in kg: \" + str(converted))\n",
    "else:\n",
    "    float(weight)\n",
    "    converted = float(weight) * 2.205\n",
    "    print(\"Weight in Lbs: \" + str(converted))\n"
   ]
  },
  {
   "cell_type": "code",
   "execution_count": 56,
   "id": "08f7eae8",
   "metadata": {},
   "outputs": [
    {
     "name": "stdout",
     "output_type": "stream",
     "text": [
      "1\n",
      "2\n",
      "3\n",
      "4\n",
      "5\n"
     ]
    }
   ],
   "source": [
    "#Why loops in Python\n",
    "i = 1\n",
    "while i <= 5:\n",
    "    print(i)\n",
    "    i = i + 1 #this allows our code to continue until i reaches 5. Otherwise, it would run forever."
   ]
  },
  {
   "cell_type": "code",
   "execution_count": 57,
   "id": "79cc55bd",
   "metadata": {},
   "outputs": [
    {
     "name": "stdout",
     "output_type": "stream",
     "text": [
      "*\n",
      "**\n",
      "***\n",
      "****\n",
      "*****\n",
      "******\n",
      "*******\n",
      "********\n",
      "*********\n",
      "**********\n"
     ]
    }
   ],
   "source": [
    "i = 1\n",
    "while i <= 10:\n",
    "    print(i * \"*\") #we can multiply a number by a string\n",
    "    i = i + 1 "
   ]
  },
  {
   "cell_type": "code",
   "execution_count": 63,
   "id": "938d2131",
   "metadata": {},
   "outputs": [
    {
     "name": "stdout",
     "output_type": "stream",
     "text": [
      "['John', 'Bob', 'Mosh', 'Sam', 'Mary']\n",
      "John\n",
      "Mary\n",
      "Sam\n",
      "['John', 'Bob', 'Mosh']\n"
     ]
    }
   ],
   "source": [
    "#List data type\n",
    "names = [\"John\", \"Bob\", \"Mosh\", \"Sam\", \"Mary\"]\n",
    "print(names)\n",
    "print(names[0]) #returns first element\n",
    "print(names[-1]) #returns last element\n",
    "print(names[-2])\n",
    "print(names[0:3]) #will return elements 0,1,2,3. Returns new list"
   ]
  },
  {
   "cell_type": "code",
   "execution_count": 69,
   "id": "583fa56b",
   "metadata": {},
   "outputs": [
    {
     "name": "stdout",
     "output_type": "stream",
     "text": [
      "[1, 2, 3, 4, 5, 6]\n",
      "[-1, 1, 2, 3, 4, 5, 6]\n",
      "[-1, 1, 2, 4, 5, 6]\n",
      "True\n",
      "6\n",
      "[]\n"
     ]
    }
   ],
   "source": [
    "numbers = [1, 2, 3, 4, 5]\n",
    "numbers.append(6) #adds 6 to the end of the list\n",
    "print(numbers)\n",
    "numbers.insert(0, -1) #adds the number -1 to the beginning of the list (index 0)\n",
    "print(numbers)\n",
    "numbers.remove(3) #removes the number 3 from the list\n",
    "print(numbers)\n",
    "print(1 in numbers) #this is a boolean expression to see if one is in the list\n",
    "print(len(numbers)) #len shows the numbers of elements in a list\n",
    "numbers.clear() #clears list contents\n",
    "print(numbers)"
   ]
  },
  {
   "cell_type": "code",
   "execution_count": 70,
   "id": "e3975fa7",
   "metadata": {},
   "outputs": [
    {
     "name": "stdout",
     "output_type": "stream",
     "text": [
      "1\n",
      "2\n",
      "3\n",
      "4\n",
      "5\n"
     ]
    }
   ],
   "source": [
    "#Iterate over a list and work with items individually\n",
    "numbers = [1, 2, 3, 4, 5]\n",
    "for item in numbers: #this is a for loop to iterate over a list\n",
    "    print(item)"
   ]
  },
  {
   "cell_type": "code",
   "execution_count": 71,
   "id": "96c30650",
   "metadata": {},
   "outputs": [
    {
     "name": "stdout",
     "output_type": "stream",
     "text": [
      "1\n",
      "2\n",
      "3\n",
      "4\n",
      "5\n"
     ]
    }
   ],
   "source": [
    "#Iterating over a list with a why loop\n",
    "numbers = [1, 2, 3, 4, 5]\n",
    "i = 0\n",
    "while i < len(numbers):\n",
    "    print(numbers[i])\n",
    "    i += 1"
   ]
  },
  {
   "cell_type": "code",
   "execution_count": 74,
   "id": "3d662b4b",
   "metadata": {},
   "outputs": [
    {
     "name": "stdout",
     "output_type": "stream",
     "text": [
      "0\n",
      "1\n",
      "2\n",
      "3\n",
      "4\n",
      "5\n",
      "6\n",
      "7\n",
      "8\n",
      "9\n"
     ]
    }
   ],
   "source": [
    "#Using the range function\n",
    "numbers = range(5) #returns a range object that can store a sequence of numbers\n",
    "#iterate over a range object with a for loop\n",
    "for number in numbers:\n",
    "    print(number)\n",
    "\n",
    "numbers = range(5, 10) #this is a range that goes from 5-9 (excludes 10)\n",
    "for number in numbers:\n",
    "    print(number)"
   ]
  },
  {
   "cell_type": "code",
   "execution_count": 75,
   "id": "f45a683f",
   "metadata": {},
   "outputs": [
    {
     "name": "stdout",
     "output_type": "stream",
     "text": [
      "5\n",
      "7\n",
      "9\n"
     ]
    }
   ],
   "source": [
    "#range function using a step\n",
    "numbers = range(5, 10, 2) #the 2 makes it jump by 2\n",
    "for number in numbers:\n",
    "    print(number)"
   ]
  },
  {
   "cell_type": "code",
   "execution_count": 77,
   "id": "20c2c013",
   "metadata": {},
   "outputs": [
    {
     "name": "stdout",
     "output_type": "stream",
     "text": [
      "0\n",
      "1\n",
      "2\n",
      "3\n",
      "4\n"
     ]
    }
   ],
   "source": [
    "#range function. you don't need to store the range in a variable\n",
    "for number in range(0,5):\n",
    "    print(number)"
   ]
  },
  {
   "cell_type": "code",
   "execution_count": null,
   "id": "74f89a21",
   "metadata": {},
   "outputs": [],
   "source": [
    "#tuples in Python. They are inmutable\n",
    "numbers = (1, 2, 3) #square brackets are for lists; round brackets are for tuples\n",
    "#you cannot alter a tuple. you can only count and index a tuple"
   ]
  },
  {
   "cell_type": "code",
   "execution_count": 83,
   "id": "77ac2fc2",
   "metadata": {},
   "outputs": [
    {
     "name": "stdout",
     "output_type": "stream",
     "text": [
      "[3, 10, -1, 1, 'hello', [1, 2]]\n",
      "[3, 10, -1, 1, 'hello']\n",
      "3\n",
      "[100, 10, -1, 1, 'hello']\n"
     ]
    }
   ],
   "source": [
    "#lists can contain multiple data types\n",
    "#lists can contain other lists\n",
    "a = [3, 10, -1, 1]\n",
    "a.append(\"hello\") #adding a string to a list of ints\n",
    "a.append([1, 2]) #adding a list to list \"a\"\n",
    "print(a)\n",
    "a.pop() #to delete the last item from the list\n",
    "print(a)\n",
    "print(a[0]) #to print the first item from the list\n",
    "a[0] = 100 #to change a value in a list\n",
    "print(a)"
   ]
  },
  {
   "cell_type": "code",
   "execution_count": 84,
   "id": "cdedffcb",
   "metadata": {},
   "outputs": [
    {
     "name": "stdout",
     "output_type": "stream",
     "text": [
      "[10, 100, -1, 1, 'hello']\n"
     ]
    }
   ],
   "source": [
    "#to rearrange the items in a list\n",
    "a[0], a[1] = a[1], a[0] #rearranges the first and second elements in a list\n",
    "print(a)"
   ]
  },
  {
   "cell_type": "code",
   "execution_count": 85,
   "id": "986b2733",
   "metadata": {},
   "outputs": [
    {
     "ename": "SyntaxError",
     "evalue": "unexpected character after line continuation character (304265640.py, line 2)",
     "output_type": "error",
     "traceback": [
      "\u001b[0;36m  Cell \u001b[0;32mIn[85], line 2\u001b[0;36m\u001b[0m\n\u001b[0;31m    C:\\python_examples>python\u001b[0m\n\u001b[0m       ^\u001b[0m\n\u001b[0;31mSyntaxError\u001b[0m\u001b[0;31m:\u001b[0m unexpected character after line continuation character\n"
     ]
    }
   ],
   "source": [
    "#Functions\n",
    "C:\\python_examples>python\n",
    "    dir()\n",
    "    "
   ]
  },
  {
   "cell_type": "code",
   "execution_count": 87,
   "id": "1fe12533",
   "metadata": {},
   "outputs": [],
   "source": [
    "#Functions\n",
    "dir()\n",
    "def f(): #: to start a new code block\n",
    "    pass #pass tells Python to skip this line\n",
    "f() #this calls the function"
   ]
  },
  {
   "cell_type": "code",
   "execution_count": 88,
   "id": "aa895c32",
   "metadata": {},
   "outputs": [
    {
     "name": "stdout",
     "output_type": "stream",
     "text": [
      "['In', 'Out', '_', '_10', '__', '___', '__annotations__', '__builtin__', '__builtins__', '__doc__', '__loader__', '__name__', '__package__', '__spec__', '_dh', '_i', '_i1', '_i10', '_i11', '_i12', '_i13', '_i14', '_i15', '_i16', '_i17', '_i18', '_i19', '_i2', '_i20', '_i21', '_i22', '_i23', '_i24', '_i25', '_i26', '_i27', '_i28', '_i29', '_i3', '_i30', '_i31', '_i32', '_i33', '_i34', '_i35', '_i36', '_i37', '_i38', '_i39', '_i4', '_i40', '_i41', '_i42', '_i43', '_i44', '_i45', '_i46', '_i47', '_i48', '_i49', '_i5', '_i50', '_i51', '_i52', '_i53', '_i54', '_i55', '_i56', '_i57', '_i58', '_i59', '_i6', '_i60', '_i61', '_i62', '_i63', '_i64', '_i65', '_i66', '_i67', '_i68', '_i69', '_i7', '_i70', '_i71', '_i72', '_i73', '_i74', '_i75', '_i76', '_i77', '_i78', '_i79', '_i8', '_i80', '_i81', '_i82', '_i83', '_i84', '_i85', '_i86', '_i87', '_i88', '_i9', '_ih', '_ii', '_iii', '_oh', 'a', 'age', 'b', 'birth_year', 'converted', 'course', 'exit', 'f', 'first', 'get_ipython', 'i', 'item', 'measure', 'name', 'names', 'number', 'numbers', 'open', 'price', 'quit', 'second', 'sum', 'temp', 'temperature', 'v1', 'v2', 'weight', 'x']\n"
     ]
    }
   ],
   "source": [
    "print(dir())"
   ]
  },
  {
   "cell_type": "code",
   "execution_count": 89,
   "id": "08f3fb5e",
   "metadata": {},
   "outputs": [
    {
     "name": "stdout",
     "output_type": "stream",
     "text": [
      "None\n"
     ]
    }
   ],
   "source": [
    "print(f()) #this is an empty function"
   ]
  },
  {
   "cell_type": "code",
   "execution_count": 90,
   "id": "8919b975",
   "metadata": {},
   "outputs": [
    {
     "name": "stdout",
     "output_type": "stream",
     "text": [
      "Ping!\n"
     ]
    }
   ],
   "source": [
    "def ping():\n",
    "    return \"Ping!\"\n",
    "print(ping())"
   ]
  },
  {
   "cell_type": "code",
   "execution_count": 91,
   "id": "1b962a7e",
   "metadata": {},
   "outputs": [
    {
     "name": "stdout",
     "output_type": "stream",
     "text": [
      "Ping!\n",
      "['In', 'Out', '_', '_10', '__', '___', '__annotations__', '__builtin__', '__builtins__', '__doc__', '__loader__', '__name__', '__package__', '__spec__', '_dh', '_i', '_i1', '_i10', '_i11', '_i12', '_i13', '_i14', '_i15', '_i16', '_i17', '_i18', '_i19', '_i2', '_i20', '_i21', '_i22', '_i23', '_i24', '_i25', '_i26', '_i27', '_i28', '_i29', '_i3', '_i30', '_i31', '_i32', '_i33', '_i34', '_i35', '_i36', '_i37', '_i38', '_i39', '_i4', '_i40', '_i41', '_i42', '_i43', '_i44', '_i45', '_i46', '_i47', '_i48', '_i49', '_i5', '_i50', '_i51', '_i52', '_i53', '_i54', '_i55', '_i56', '_i57', '_i58', '_i59', '_i6', '_i60', '_i61', '_i62', '_i63', '_i64', '_i65', '_i66', '_i67', '_i68', '_i69', '_i7', '_i70', '_i71', '_i72', '_i73', '_i74', '_i75', '_i76', '_i77', '_i78', '_i79', '_i8', '_i80', '_i81', '_i82', '_i83', '_i84', '_i85', '_i86', '_i87', '_i88', '_i89', '_i9', '_i90', '_i91', '_ih', '_ii', '_iii', '_oh', 'a', 'age', 'b', 'birth_year', 'converted', 'course', 'exit', 'f', 'first', 'get_ipython', 'i', 'item', 'measure', 'name', 'names', 'number', 'numbers', 'open', 'ping', 'price', 'quit', 'second', 'sum', 'temp', 'temperature', 'v1', 'v2', 'weight', 'x']\n"
     ]
    }
   ],
   "source": [
    "x = ping() #this stores the function ping as variable x\n",
    "print(x)\n",
    "print(dir())"
   ]
  },
  {
   "cell_type": "code",
   "execution_count": 93,
   "id": "5da8ef37",
   "metadata": {},
   "outputs": [
    {
     "name": "stdout",
     "output_type": "stream",
     "text": [
      "['__doc__', '__file__', '__loader__', '__name__', '__package__', '__spec__', 'acos', 'acosh', 'asin', 'asinh', 'atan', 'atan2', 'atanh', 'cbrt', 'ceil', 'comb', 'copysign', 'cos', 'cosh', 'degrees', 'dist', 'e', 'erf', 'erfc', 'exp', 'exp2', 'expm1', 'fabs', 'factorial', 'floor', 'fmod', 'frexp', 'fsum', 'gamma', 'gcd', 'hypot', 'inf', 'isclose', 'isfinite', 'isinf', 'isnan', 'isqrt', 'lcm', 'ldexp', 'lgamma', 'log', 'log10', 'log1p', 'log2', 'modf', 'nan', 'nextafter', 'perm', 'pi', 'pow', 'prod', 'radians', 'remainder', 'sin', 'sinh', 'sqrt', 'tan', 'tanh', 'tau', 'trunc', 'ulp']\n",
      "3.141592653589793\n"
     ]
    }
   ],
   "source": [
    "#Volume of a sphere\n",
    "import math #this allows us to use the pi function\n",
    "print(dir(math))\n",
    "print(math.pi) #prints pi"
   ]
  },
  {
   "cell_type": "code",
   "execution_count": 94,
   "id": "dbd87c67",
   "metadata": {},
   "outputs": [
    {
     "data": {
      "text/plain": [
       "33.510321638291124"
      ]
     },
     "execution_count": 94,
     "metadata": {},
     "output_type": "execute_result"
    }
   ],
   "source": [
    "#Volume of a sphere continued...\n",
    "def volume(r):\n",
    "    \"\"\"Returns the volume of a sphere with radius r.\"\"\" #\"\"\"This provides documentation for functions\"\"\"\n",
    "    v = (4.0/3.0) * math.pi * r**3 #remember that ** is used for exponents\n",
    "    return v\n",
    "volume(2)"
   ]
  },
  {
   "cell_type": "code",
   "execution_count": 95,
   "id": "33808412",
   "metadata": {},
   "outputs": [
    {
     "data": {
      "text/plain": [
       "9.0"
      ]
     },
     "execution_count": 95,
     "metadata": {},
     "output_type": "execute_result"
    }
   ],
   "source": [
    "#Area of a triangle\n",
    "#A=(1/2)b*h\n",
    "def triangle_area(b, h):\n",
    "    \"\"\"Returns the area of a triangle with base b and height h.\"\"\"\n",
    "    return 0.5 * b * h\n",
    "triangle_area(3, 6)"
   ]
  },
  {
   "cell_type": "code",
   "execution_count": 96,
   "id": "c8f2c004",
   "metadata": {},
   "outputs": [
    {
     "data": {
      "text/plain": [
       "172.72"
      ]
     },
     "execution_count": 96,
     "metadata": {},
     "output_type": "execute_result"
    }
   ],
   "source": [
    "#Keyword Arguments\n",
    "#Write a function that converts a person's height from in to cm\n",
    "#1 in = 2.54 cm\n",
    "#1 foot = 12 in\n",
    "def cm(feet = 0, inches = 0): #default arguments. We set values to the argument.\n",
    "    \"\"\"Converts a length from feet and inches to centimeters\"\"\"\n",
    "    inches_to_cm = inches * 2.54\n",
    "    feet_to_cm = feet * 12 * 2.54\n",
    "    return inches_to_cm + feet_to_cm\n",
    "cm(feet = 5)\n",
    "cm(inches = 70)\n",
    "cm(feet = 5, inches = 8)\n"
   ]
  },
  {
   "cell_type": "code",
   "execution_count": 97,
   "id": "2119c4c4",
   "metadata": {},
   "outputs": [
    {
     "data": {
      "text/plain": [
       "5"
      ]
     },
     "execution_count": 97,
     "metadata": {},
     "output_type": "execute_result"
    }
   ],
   "source": [
    "#Types of Arguments: Keyword & Required\n",
    "#Keyword arguments must come last\n",
    "#List required arguments first\n",
    "def g(y, x = 0):\n",
    "    return x + y\n",
    "g(5) #you must return a value for y, but you don't have to for x.\n",
    "#if you don't choose a value for x, then the default value of 0 is used."
   ]
  },
  {
   "cell_type": "code",
   "execution_count": 100,
   "id": "6b38b87b",
   "metadata": {},
   "outputs": [
    {
     "name": "stdout",
     "output_type": "stream",
     "text": [
      " this is outside the function \n",
      "ahhh\n",
      "ahhh 2\n"
     ]
    }
   ],
   "source": [
    "#Functions\n",
    "#Functions are collections of instructions or code\n",
    "def function1():\n",
    "    print(\"ahhh\") # the spacing for all lines of code within a function must be even\n",
    "    print(\"ahhh 2\")\n",
    "print(\" this is outside the function \")   \n",
    "\n",
    "function1() # to call the function"
   ]
  },
  {
   "cell_type": "code",
   "execution_count": 103,
   "id": "56500ca4",
   "metadata": {},
   "outputs": [
    {
     "name": "stdout",
     "output_type": "stream",
     "text": [
      "6\n"
     ]
    }
   ],
   "source": [
    "# a mapping\n",
    "def function2(x): # this asks you to input an argument\n",
    "    return 2 * x\n",
    "a = function2(3)\n",
    "print(a)"
   ]
  },
  {
   "cell_type": "code",
   "execution_count": 105,
   "id": "d07d64c4",
   "metadata": {},
   "outputs": [
    {
     "name": "stdout",
     "output_type": "stream",
     "text": [
      "3\n"
     ]
    }
   ],
   "source": [
    "def function3(x, y):\n",
    "    return x + y\n",
    "e = function3(1, 2)\n",
    "print(e)"
   ]
  },
  {
   "cell_type": "code",
   "execution_count": 106,
   "id": "e5c5bb59",
   "metadata": {},
   "outputs": [
    {
     "name": "stdout",
     "output_type": "stream",
     "text": [
      "4\n",
      "still in this function\n",
      "12\n"
     ]
    }
   ],
   "source": [
    "def function4(x):\n",
    "    print(x)\n",
    "    print(\"still in this function\")\n",
    "    return 3 * x\n",
    "f = function4(4)\n",
    "print(f)"
   ]
  },
  {
   "cell_type": "code",
   "execution_count": 113,
   "id": "88de70d7",
   "metadata": {},
   "outputs": [],
   "source": [
    "# BMI calculator\n",
    "name1 = \"YK\"\n",
    "height_m1 = 2\n",
    "weight_kg1 = 2\n",
    "\n",
    "name2 = \"YK's Sister\"\n",
    "height_m2 = 1.8\n",
    "weight_kg2 = 70\n",
    "\n",
    "def bmi_calculator(name, height_m, weight_kg):\n",
    "    bmi = weight_kg / (height_m ** 2)\n",
    "    print(\"BMI: \")\n",
    "    print(bmi)\n",
    "    if bmi < 25:\n",
    "        return name + \" is not overweight\"\n",
    "    else:\n",
    "        return name + \" is overweight\""
   ]
  },
  {
   "cell_type": "code",
   "execution_count": 114,
   "id": "c8d7f0dd",
   "metadata": {
    "scrolled": true
   },
   "outputs": [
    {
     "name": "stdout",
     "output_type": "stream",
     "text": [
      "BMI: \n",
      "0.5\n",
      "YK is not overweight\n",
      "BMI: \n",
      "21.604938271604937\n",
      "YK's Sister is not overweight\n"
     ]
    }
   ],
   "source": [
    "result1 = bmi_calculator(name1, height_m1, weight_kg1)\n",
    "print(result1)\n",
    "result2 = bmi_calculator(name2, height_m2, weight_kg2)\n",
    "print(result2)"
   ]
  },
  {
   "cell_type": "code",
   "execution_count": 115,
   "id": "38d23292",
   "metadata": {},
   "outputs": [],
   "source": [
    "# Write a function that converts miles into km\n",
    "# km = 1.6 * miles\n",
    "def km_converter(miles):\n",
    "    km = 1.6 * miles\n",
    "    return km"
   ]
  },
  {
   "cell_type": "code",
   "execution_count": 116,
   "id": "6e7543ce",
   "metadata": {},
   "outputs": [
    {
     "name": "stdout",
     "output_type": "stream",
     "text": [
      "96.0\n"
     ]
    }
   ],
   "source": [
    "km1 = km_converter(60)\n",
    "print(km1)"
   ]
  },
  {
   "cell_type": "code",
   "execution_count": 117,
   "id": "4a24948e",
   "metadata": {},
   "outputs": [
    {
     "name": "stdout",
     "output_type": "stream",
     "text": [
      "1.89\n"
     ]
    }
   ],
   "source": [
    "# Python has functions included in its system\n",
    "# Example\n",
    "fam = [1.73, 1.68, 1.71, 1.89]\n",
    "# let's get the max from the list fam\n",
    "tallest = max(fam)\n",
    "print(tallest)"
   ]
  },
  {
   "cell_type": "code",
   "execution_count": 125,
   "id": "aec125d8",
   "metadata": {},
   "outputs": [
    {
     "data": {
      "text/plain": [
       "1.7"
      ]
     },
     "execution_count": 125,
     "metadata": {},
     "output_type": "execute_result"
    }
   ],
   "source": [
    "# using the round() function\n",
    "round(1.6877, 2)\n",
    "round(1.6877, 1)"
   ]
  },
  {
   "cell_type": "code",
   "execution_count": 126,
   "id": "032a69b5",
   "metadata": {},
   "outputs": [
    {
     "name": "stdout",
     "output_type": "stream",
     "text": [
      "Help on built-in function round in module builtins:\n",
      "\n",
      "round(number, ndigits=None)\n",
      "    Round a number to a given precision in decimal digits.\n",
      "    \n",
      "    The return value is an integer if ndigits is omitted or None.  Otherwise\n",
      "    the return value has the same type as the number.  ndigits may be negative.\n",
      "\n"
     ]
    }
   ],
   "source": [
    "#use the help function for hints\n",
    "help(round)"
   ]
  },
  {
   "cell_type": "code",
   "execution_count": 128,
   "id": "2060f842",
   "metadata": {},
   "outputs": [
    {
     "name": "stdout",
     "output_type": "stream",
     "text": [
      "array('i', [1, 2, 3, 4, 5])\n",
      "array('i', [1, 2, 3, 4, 5, 6])\n"
     ]
    }
   ],
   "source": [
    "#Python Arrays vs Lists\n",
    "#Lists != Arrays\n",
    "#Python lists are ordered sequences of heterogeneous elements\n",
    "#Ex: stuff = [1, 'apple', foo]\n",
    "#Arrays are ordered sequences of homogeneous elements\n",
    "#class array.array(typecode[, initializer])\n",
    "import array\n",
    "numbers = array.array('i', [1, 2, 3, 4, 5])\n",
    "print(numbers) #notice how Python prints arrays differently.\n",
    "numbers.append(6)\n",
    "print(numbers)"
   ]
  },
  {
   "cell_type": "code",
   "execution_count": 129,
   "id": "2978b4ed",
   "metadata": {},
   "outputs": [
    {
     "name": "stdout",
     "output_type": "stream",
     "text": [
      "Requirement already satisfied: numpy in /Users/gabriellejames/anaconda3/lib/python3.11/site-packages (1.24.3)\n"
     ]
    }
   ],
   "source": [
    "#numpy -- a Python library for arrays\n",
    "#installing numpy\n",
    "!pip install numpy\n",
    "import numpy as np"
   ]
  },
  {
   "cell_type": "code",
   "execution_count": 131,
   "id": "2d9734ce",
   "metadata": {},
   "outputs": [],
   "source": [
    "#creating arrays with numpy\n",
    "data = np.random.rand(2, 3, 4) #an array of random numbers\n",
    "zeroes = np.zeros((2, 2, 2)) #an array of zeroes\n",
    "full = np.full((2, 2, 2), 7) #an array of a specific number, in this case, 7\n",
    "ones = np.ones((2, 2, 2)) #an array of ones"
   ]
  },
  {
   "cell_type": "code",
   "execution_count": 133,
   "id": "33441b8b",
   "metadata": {},
   "outputs": [
    {
     "name": "stdout",
     "output_type": "stream",
     "text": [
      "[[1 2 3 4]\n",
      " [1 2 3 4]]\n"
     ]
    }
   ],
   "source": [
    "#creating a custom numpy array\n",
    "arr = np.array([[1, 2, 3, 4], [1, 2, 3, 4]])\n",
    "print(arr)"
   ]
  },
  {
   "cell_type": "code",
   "execution_count": 137,
   "id": "31a1da37",
   "metadata": {},
   "outputs": [
    {
     "name": "stdout",
     "output_type": "stream",
     "text": [
      "(2, 3, 4)\n",
      "24\n",
      "float64\n"
     ]
    }
   ],
   "source": [
    "#Attributes\n",
    "shape = data.shape # using the array from above\n",
    "size = data.size\n",
    "types = data.dtype\n",
    "print(shape)\n",
    "print(size)\n",
    "print(types)"
   ]
  },
  {
   "cell_type": "code",
   "execution_count": 141,
   "id": "063dbeb1",
   "metadata": {},
   "outputs": [],
   "source": [
    "#Slicing an Array\n",
    "arr = data[0] #get first instance of data (the three and four in our array)\n",
    "slicer = data[0:2] #gets specific values\n",
    "reverse = data[-1] #gets the last piece\n",
    "singlevel = data[0][0][0] #gets a single value"
   ]
  },
  {
   "cell_type": "code",
   "execution_count": 143,
   "id": "d69e6188",
   "metadata": {},
   "outputs": [],
   "source": [
    "#Basic Math\n",
    "array1 = np.random.rand(10)\n",
    "array2 = np.random.rand(10)\n",
    "add = np.add(array1, array2)\n",
    "sub = np.subtract(array1, array2)\n",
    "div = np.divide(array1, array2)\n",
    "mult = np.multiply(array1, array2)\n",
    "dot = np.dot(array1, array2) #multiplies everything together and aggregates the data"
   ]
  },
  {
   "cell_type": "code",
   "execution_count": 144,
   "id": "3a67a50a",
   "metadata": {},
   "outputs": [],
   "source": [
    "#Statistical Functions\n",
    "sqrt = np.sqrt(25) #square root\n",
    "ab = np.abs(-2) #absolute value\n",
    "power = np.power(2, 7) #calculating a power\n",
    "log = np.log(25) #log function\n",
    "exp = np.exp([2, 3]) #exponential\n",
    "mins = np.min(array1) #minimum\n",
    "maxs = np.max(array1) #maximum"
   ]
  },
  {
   "cell_type": "code",
   "execution_count": 145,
   "id": "eca9e879",
   "metadata": {},
   "outputs": [
    {
     "name": "stdout",
     "output_type": "stream",
     "text": [
      "(2, 3, 4)\n"
     ]
    }
   ],
   "source": [
    "#to access a certain value in an array\n",
    "data[0][0][0] = 700 #this collects the exact value in an array and changes it\n",
    "data.sort() #sorts the data in an array\n",
    "print(data.shape) #shows the shape of the array"
   ]
  },
  {
   "cell_type": "code",
   "execution_count": 146,
   "id": "89264775",
   "metadata": {},
   "outputs": [
    {
     "data": {
      "text/plain": [
       "(2, 2, 6)"
      ]
     },
     "execution_count": 146,
     "metadata": {},
     "output_type": "execute_result"
    }
   ],
   "source": [
    "#to reshape an array\n",
    "data = data.reshape(2, 2, -1) #the -1 means we do not care about the last number/shape aspect\n",
    "data.shape #this will show the shape of the array and the last number is calculated for what it needs to be"
   ]
  },
  {
   "cell_type": "code",
   "execution_count": 149,
   "id": "de155093",
   "metadata": {},
   "outputs": [
    {
     "name": "stdout",
     "output_type": "stream",
     "text": [
      "[0. 0. 0. 0. 0. 0. 0. 0.]\n",
      "[0. 0. 0. 0. 0. 0. 0. 0. 3. 4.]\n"
     ]
    }
   ],
   "source": [
    "zeroes = np.zeros((8))\n",
    "print(zeroes)\n",
    "zeroes = np.append(zeroes, [3, 4]) #adds [3,4] to the end\n",
    "print(zeroes)"
   ]
  },
  {
   "cell_type": "code",
   "execution_count": 150,
   "id": "54ad898e",
   "metadata": {},
   "outputs": [
    {
     "name": "stdout",
     "output_type": "stream",
     "text": [
      "[0. 0. 1. 0. 0. 0. 0. 0. 0. 3. 4.]\n"
     ]
    }
   ],
   "source": [
    "#to add zeroes into the middle of the array\n",
    "zeroes = np.insert(zeroes, 2, 1) #adds the number 1 as spot number 2\n",
    "print(zeroes)"
   ]
  },
  {
   "cell_type": "code",
   "execution_count": 153,
   "id": "0ccec892",
   "metadata": {},
   "outputs": [
    {
     "name": "stdout",
     "output_type": "stream",
     "text": [
      "[[[1.65972761e-02 7.60405851e-01 9.42265437e-01 7.00000000e+02\n",
      "   9.07192517e-02 7.15140390e-01]\n",
      "  [7.93826938e-01 8.21393240e-01 1.18614298e-01 3.23865724e-01\n",
      "   7.42331402e-01 9.29037129e-01]]\n",
      "\n",
      " [[3.57273866e-01 4.27275332e-01 7.28787971e-01 9.11572999e-01\n",
      "   1.63373581e-01 6.41094751e-01]\n",
      "  [6.70086354e-01 6.75170857e-01 5.53488491e-02 1.80163643e-01\n",
      "   6.07193445e-01 6.37495115e-01]]]\n"
     ]
    }
   ],
   "source": [
    "#To delete a section of an array\n",
    "np.delete(data, 0, axis = 1) #pass through the array, specify which level, specify whether row or column\n",
    "print(data)"
   ]
  },
  {
   "cell_type": "code",
   "execution_count": 154,
   "id": "8450df6a",
   "metadata": {},
   "outputs": [],
   "source": [
    "#to save an array\n",
    "np.save(\"new array\", data)"
   ]
  },
  {
   "cell_type": "code",
   "execution_count": 156,
   "id": "5db464ba",
   "metadata": {},
   "outputs": [
    {
     "name": "stdout",
     "output_type": "stream",
     "text": [
      "[[[1.65972761e-02 7.60405851e-01 9.42265437e-01 7.00000000e+02\n",
      "   9.07192517e-02 7.15140390e-01]\n",
      "  [7.93826938e-01 8.21393240e-01 1.18614298e-01 3.23865724e-01\n",
      "   7.42331402e-01 9.29037129e-01]]\n",
      "\n",
      " [[3.57273866e-01 4.27275332e-01 7.28787971e-01 9.11572999e-01\n",
      "   1.63373581e-01 6.41094751e-01]\n",
      "  [6.70086354e-01 6.75170857e-01 5.53488491e-02 1.80163643e-01\n",
      "   6.07193445e-01 6.37495115e-01]]]\n"
     ]
    }
   ],
   "source": [
    "#to reload from memory\n",
    "test = np.load(\"new array.npy\")\n",
    "print(test)"
   ]
  },
  {
   "cell_type": "code",
   "execution_count": 162,
   "id": "2f5a3164",
   "metadata": {},
   "outputs": [
    {
     "name": "stdout",
     "output_type": "stream",
     "text": [
      "[1.73 1.68 1.71 1.89 1.79]\n",
      "[65.4 59.2 63.6 88.4 68.4]\n",
      "[21.85171573 20.97505669 21.75028214 24.7473475  21.34764833]\n"
     ]
    }
   ],
   "source": [
    "#Using arrays to calculate BMI\n",
    "height = [1.73, 1.68, 1.71, 1.89, 1.79]\n",
    "np_height = np.array(height)\n",
    "print(np_height)\n",
    "weight = [65.4, 59.2, 63.6, 88.4, 68.4]\n",
    "np_weight = np.array(weight)\n",
    "print(np_weight)\n",
    "bmi = np_weight/np_height ** 2\n",
    "print(bmi) #calculations can iterate over each element of an array"
   ]
  },
  {
   "cell_type": "code",
   "execution_count": 164,
   "id": "578801b9",
   "metadata": {},
   "outputs": [
    {
     "name": "stdout",
     "output_type": "stream",
     "text": [
      "[False False False  True False]\n",
      "[24.7473475]\n"
     ]
    }
   ],
   "source": [
    "#To get boolean values for an array\n",
    "#For example, I want to gather BMIs that are over 23\n",
    "print(bmi > 23)\n",
    "#To return only the values in an array that are over 23, use the booleans again\n",
    "print(bmi[bmi > 23])"
   ]
  },
  {
   "cell_type": "code",
   "execution_count": 168,
   "id": "f7ebce6e",
   "metadata": {},
   "outputs": [
    {
     "name": "stdout",
     "output_type": "stream",
     "text": [
      "[[ 1.73  1.68  1.71  1.89  1.79]\n",
      " [65.4  59.2  63.6  88.4  68.7 ]]\n",
      "(2, 5)\n",
      "[[ 1.68  1.71]\n",
      " [59.2  63.6 ]]\n"
     ]
    }
   ],
   "source": [
    "#2D NumPy Arrays\n",
    "#An array of heights and weights\n",
    "np_2d = np.array([[1.73, 1.68, 1.71, 1.89, 1.79],\n",
    "                 [65.4, 59.2, 63.6, 88.4, 68.7]])\n",
    "print(np_2d)\n",
    "\n",
    "print(np_2d.shape) #the first number is rows, second is columns\n",
    "\n",
    "#To get the heights and weights of the second and third people\n",
    "np_2d[:, 1:3] # the colon means both rows\n",
    "print(np_2d[:, 1:3])"
   ]
  },
  {
   "cell_type": "code",
   "execution_count": null,
   "id": "6a9b51ec",
   "metadata": {},
   "outputs": [],
   "source": [
    "#Statistics in NumPy\n",
    "# np.mean\n",
    "# np.median\n",
    "# np.corrcoef checks for correlation\n",
    "# np.std standard deviation\n",
    "# sum()\n",
    "# sort()\n",
    "\n",
    "#Generate Data\n",
    "height = np.round(np.random.normal(1.75, 0.20, 5000), 2) #generates random heights\n",
    "weight = np.round(np.random.normal(60.32, 15, 5000), 2) #generates random weights\n",
    "np_city = np.column_stack((height, weight)) #combines the two arrays into a single array with 2 columns"
   ]
  },
  {
   "cell_type": "code",
   "execution_count": 170,
   "id": "5ed45f5e",
   "metadata": {},
   "outputs": [
    {
     "name": "stdout",
     "output_type": "stream",
     "text": [
      "38567\n",
      "[1 2 3]\n",
      "[[1 2 3]\n",
      " [4 5 6]]\n",
      "[[[ 1  2  3]\n",
      "  [ 4  5  6]]\n",
      "\n",
      " [[ 7  8  9]\n",
      "  [10 11 12]]]\n"
     ]
    }
   ],
   "source": [
    "# NumPy Tutorial 1 -- Creating Arrays and Dimensional Arrays\n",
    "# Zero Dimensional Array\n",
    "zero_dim = np.array(38567)\n",
    "print(zero_dim)\n",
    "# One Dimensional \n",
    "one_dim = np.array([1, 2, 3])\n",
    "print(one_dim)\n",
    "# Two Dimensional\n",
    "two_dim = np.array([[1, 2, 3], [4, 5, 6]])\n",
    "print(two_dim)\n",
    "# Three Dimensional\n",
    "three_dim = np.array([[[1, 2, 3], [4, 5, 6]], [[7, 8, 9], [10, 11, 12]]])\n",
    "print(three_dim)"
   ]
  },
  {
   "cell_type": "code",
   "execution_count": 171,
   "id": "f8e891d7",
   "metadata": {},
   "outputs": [
    {
     "name": "stdout",
     "output_type": "stream",
     "text": [
      "3\n"
     ]
    }
   ],
   "source": [
    "#To find the dimension of a given array\n",
    "print(three_dim.ndim) #this prints the dimension of a given array"
   ]
  },
  {
   "cell_type": "code",
   "execution_count": null,
   "id": "797f00af",
   "metadata": {},
   "outputs": [],
   "source": [
    "#Give an array any dimension you want!\n",
    "new_array = np.array(17, ndmin = 5) #5 dimensional array"
   ]
  },
  {
   "cell_type": "code",
   "execution_count": null,
   "id": "7f69d03a-8bf7-4906-b024-d1ed0a8f9b49",
   "metadata": {},
   "outputs": [],
   "source": [
    "#Test for commit"
   ]
  }
 ],
 "metadata": {
  "kernelspec": {
   "display_name": "Python 3 (ipykernel)",
   "language": "python",
   "name": "python3"
  },
  "language_info": {
   "codemirror_mode": {
    "name": "ipython",
    "version": 3
   },
   "file_extension": ".py",
   "mimetype": "text/x-python",
   "name": "python",
   "nbconvert_exporter": "python",
   "pygments_lexer": "ipython3",
   "version": "3.11.5"
  }
 },
 "nbformat": 4,
 "nbformat_minor": 5
}
