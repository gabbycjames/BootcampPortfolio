{
 "cells": [
  {
   "cell_type": "code",
   "execution_count": 1,
   "id": "73c12a87-05db-44fc-b566-679932cc7138",
   "metadata": {
    "tags": []
   },
   "outputs": [],
   "source": [
    "# Computational Thinking"
   ]
  },
  {
   "cell_type": "code",
   "execution_count": 2,
   "id": "2f142774-7f01-4a73-b80e-34c7431ef76f",
   "metadata": {
    "tags": []
   },
   "outputs": [],
   "source": [
    "# Importing to help print tuples\n",
    "import pandas as pd"
   ]
  },
  {
   "cell_type": "code",
   "execution_count": 3,
   "id": "98cc5d31-3216-4da0-a6b4-ab3978565aaa",
   "metadata": {
    "tags": []
   },
   "outputs": [
    {
     "data": {
      "text/plain": [
       "[1, 2, 3, 4, 5, 6]"
      ]
     },
     "execution_count": 3,
     "metadata": {},
     "output_type": "execute_result"
    }
   ],
   "source": [
    "# Append() List Method\n",
    "numbers = [1, 2, 3, 4, 5]\n",
    "numbers.append(6)\n",
    "numbers"
   ]
  },
  {
   "cell_type": "code",
   "execution_count": 4,
   "id": "e8d75fdc-936a-4887-9900-a203759de7a6",
   "metadata": {
    "tags": []
   },
   "outputs": [
    {
     "name": "stdout",
     "output_type": "stream",
     "text": [
      "['cat', 'dog', 'turtle', 'rabbit', 'horse']\n"
     ]
    }
   ],
   "source": [
    "# Append a list onto a list\n",
    "animals = ['cat', 'dog', 'turtle']\n",
    "additional_animals = ['rabbit', 'horse']\n",
    "for x in additional_animals:\n",
    "    animals.append(x)\n",
    "print(animals)"
   ]
  },
  {
   "cell_type": "code",
   "execution_count": 5,
   "id": "fd9739b3-d8ac-4578-9749-1e2bad6681e6",
   "metadata": {
    "tags": []
   },
   "outputs": [],
   "source": [
    "# Lists vs Tuples\n",
    "import sys"
   ]
  },
  {
   "cell_type": "code",
   "execution_count": 6,
   "id": "29963e81-ff13-4dc4-8df2-3f5b95802b0f",
   "metadata": {
    "tags": []
   },
   "outputs": [
    {
     "name": "stdout",
     "output_type": "stream",
     "text": [
      "['__breakpointhook__', '__displayhook__', '__doc__', '__excepthook__', '__interactivehook__', '__loader__', '__name__', '__package__', '__spec__', '__stderr__', '__stdin__', '__stdout__', '__unraisablehook__', '_base_executable', '_clear_type_cache', '_current_exceptions', '_current_frames', '_debugmallocstats', '_framework', '_getframe', '_getquickenedcount', '_git', '_home', '_stdlib_dir', '_xoptions', 'abiflags', 'addaudithook', 'api_version', 'argv', 'audit', 'base_exec_prefix', 'base_prefix', 'breakpointhook', 'builtin_module_names', 'byteorder', 'call_tracing', 'copyright', 'displayhook', 'dont_write_bytecode', 'exc_info', 'excepthook', 'exception', 'exec_prefix', 'executable', 'exit', 'flags', 'float_info', 'float_repr_style', 'get_asyncgen_hooks', 'get_coroutine_origin_tracking_depth', 'get_int_max_str_digits', 'getallocatedblocks', 'getdefaultencoding', 'getdlopenflags', 'getfilesystemencodeerrors', 'getfilesystemencoding', 'getprofile', 'getrecursionlimit', 'getrefcount', 'getsizeof', 'getswitchinterval', 'gettrace', 'hash_info', 'hexversion', 'implementation', 'int_info', 'intern', 'is_finalizing', 'maxsize', 'maxunicode', 'meta_path', 'modules', 'orig_argv', 'path', 'path_hooks', 'path_importer_cache', 'platform', 'platlibdir', 'prefix', 'ps1', 'ps2', 'ps3', 'pycache_prefix', 'set_asyncgen_hooks', 'set_coroutine_origin_tracking_depth', 'set_int_max_str_digits', 'setdlopenflags', 'setprofile', 'setrecursionlimit', 'setswitchinterval', 'settrace', 'stderr', 'stdin', 'stdlib_module_names', 'stdout', 'thread_info', 'unraisablehook', 'version', 'version_info', 'warnoptions']\n"
     ]
    }
   ],
   "source": [
    "print(dir(sys))"
   ]
  },
  {
   "cell_type": "code",
   "execution_count": 7,
   "id": "ab0147ad-4bec-431a-8778-a13b8e68c312",
   "metadata": {
    "tags": []
   },
   "outputs": [],
   "source": [
    "# We are currently interested in the 'getsizeof' function\n",
    "list_eg = [1, 2, 3, \"a\", \"b\", \"c\", True, 3.14159]\n",
    "tuple_eg = (1, 2, 3, \"a\", \"b\", \"c\", True, 3.14159)\n",
    "\n",
    "print = (\"List size = \", sys.getsizeof(list_eg))\n",
    "print = (\"Tuple size = \", sys.getsizeof(tuple_eg))\n",
    "\n",
    "# Shows that list occupies more space than a tuple"
   ]
  },
  {
   "cell_type": "code",
   "execution_count": 29,
   "id": "88a2fe65-7f3f-4da0-a4de-aa034d1160be",
   "metadata": {
    "tags": []
   },
   "outputs": [
    {
     "ename": "TypeError",
     "evalue": "'tuple' object is not callable",
     "output_type": "error",
     "traceback": [
      "\u001b[0;31m---------------------------------------------------------------------------\u001b[0m",
      "\u001b[0;31mTypeError\u001b[0m                                 Traceback (most recent call last)",
      "Cell \u001b[0;32mIn[29], line 7\u001b[0m\n\u001b[1;32m      4\u001b[0m test2 \u001b[38;5;241m=\u001b[39m (\u001b[38;5;241m1\u001b[39m, \u001b[38;5;241m2\u001b[39m)\n\u001b[1;32m      5\u001b[0m test3 \u001b[38;5;241m=\u001b[39m (\u001b[38;5;241m1\u001b[39m ,\u001b[38;5;241m2\u001b[39m , \u001b[38;5;241m3\u001b[39m)\n\u001b[0;32m----> 7\u001b[0m \u001b[38;5;28mprint\u001b[39m(\u001b[38;5;28mtype\u001b[39m(test1))\n",
      "\u001b[0;31mTypeError\u001b[0m: 'tuple' object is not callable"
     ]
    }
   ],
   "source": [
    "# Tuples\n",
    "empty_tuple = ()\n",
    "test1 = (\"1\",) # To make a tuple with just one element, you need to type a comma at the end.\n",
    "test2 = (1, 2)\n",
    "test3 = (1 ,2 , 3)\n",
    "\n",
    "print(type(test1))"
   ]
  },
  {
   "cell_type": "code",
   "execution_count": 13,
   "id": "071346c4-e02d-4b5a-bfb6-509ffed5f885",
   "metadata": {
    "tags": []
   },
   "outputs": [
    {
     "data": {
      "text/plain": [
       "(1, 2, 3)"
      ]
     },
     "execution_count": 13,
     "metadata": {},
     "output_type": "execute_result"
    }
   ],
   "source": [
    "empty_tuple\n",
    "test1\n",
    "test2\n",
    "test3"
   ]
  },
  {
   "cell_type": "raw",
   "id": "491edd5d-4cd1-40aa-8920-26e4c86f5311",
   "metadata": {},
   "source": []
  },
  {
   "cell_type": "code",
   "execution_count": null,
   "id": "dfaf032e-1c60-4114-8375-b2e81bf6c135",
   "metadata": {
    "tags": []
   },
   "outputs": [],
   "source": [
    "# Trying to print tuples\n",
    "dogs = (\"lab\", \"poodle\", \"aussie\")\n",
    "print(dogs)"
   ]
  },
  {
   "cell_type": "code",
   "execution_count": null,
   "id": "ea6cae6c-62f5-46f3-91ea-35fe3c1f12ec",
   "metadata": {
    "tags": []
   },
   "outputs": [],
   "source": [
    "# A tuple that contains (age, country, knows_python)\n",
    "survey = (21, \"Switzerland\", False)\n",
    "age, country, knows_python = survey\n",
    "print(\"Age = \", age)"
   ]
  },
  {
   "cell_type": "code",
   "execution_count": 27,
   "id": "3836563c-6f5c-48e9-81db-d722a4f3ef1a",
   "metadata": {},
   "outputs": [
    {
     "data": {
      "text/plain": [
       "('tree', 'flower', 'twig')"
      ]
     },
     "execution_count": 27,
     "metadata": {},
     "output_type": "execute_result"
    }
   ],
   "source": [
    "plants = ('tree', 'flower', 'twig')\n",
    "plants"
   ]
  },
  {
   "cell_type": "code",
   "execution_count": null,
   "id": "ce7f740e-37fc-43e5-ad3b-4f13a49a8128",
   "metadata": {},
   "outputs": [],
   "source": []
  }
 ],
 "metadata": {
  "kernelspec": {
   "display_name": "Python 3 (ipykernel)",
   "language": "python",
   "name": "python3"
  },
  "language_info": {
   "codemirror_mode": {
    "name": "ipython",
    "version": 3
   },
   "file_extension": ".py",
   "mimetype": "text/x-python",
   "name": "python",
   "nbconvert_exporter": "python",
   "pygments_lexer": "ipython3",
   "version": "3.11.5"
  }
 },
 "nbformat": 4,
 "nbformat_minor": 5
}
