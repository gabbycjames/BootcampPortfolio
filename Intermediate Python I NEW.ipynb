{
 "cells": [
  {
   "cell_type": "code",
   "execution_count": 2,
   "id": "fc8bfcaf-330e-45d8-a026-eecdc4239150",
   "metadata": {
    "tags": []
   },
   "outputs": [
    {
     "name": "stdout",
     "output_type": "stream",
     "text": [
      "('tiger', 'cheetah', 'lion')\n"
     ]
    }
   ],
   "source": [
    "# Testing tuples\n",
    "big_cats = (\"tiger\", \"cheetah\", \"lion\")\n",
    "print(big_cats)"
   ]
  },
  {
   "cell_type": "code",
   "execution_count": 3,
   "id": "11c31a89-05a2-4115-b0cb-7883c7f152e2",
   "metadata": {
    "tags": []
   },
   "outputs": [
    {
     "name": "stdout",
     "output_type": "stream",
     "text": [
      "['cat', 'dog', 'turtle', 'rabbit', 'horse']\n"
     ]
    }
   ],
   "source": [
    "# Append a list onto a list\n",
    "animals = ['cat', 'dog', 'turtle']\n",
    "additional_animals = ['rabbit', 'horse']\n",
    "for x in additional_animals:\n",
    "    animals.append(x)\n",
    "print(animals)"
   ]
  },
  {
   "cell_type": "code",
   "execution_count": 5,
   "id": "87b5077b-31d5-45d3-a017-2b666eb9a9d9",
   "metadata": {
    "tags": []
   },
   "outputs": [
    {
     "name": "stdout",
     "output_type": "stream",
     "text": [
      "()\n",
      "(1,)\n",
      "(1, 2)\n",
      "(1, 2, 3)\n"
     ]
    }
   ],
   "source": [
    "# Tuples\n",
    "empty_tuple = ()\n",
    "test1 = (1,) # To make a tuple with just one element, you need to type a comma at the end.\n",
    "test2 = (1, 2)\n",
    "test3 = (1 ,2 , 3)\n",
    "\n",
    "print(empty_tuple)\n",
    "print(test1)\n",
    "print(test2)\n",
    "print(test3)"
   ]
  },
  {
   "cell_type": "code",
   "execution_count": 6,
   "id": "a3285960-5a19-470c-8630-46839d50de59",
   "metadata": {
    "tags": []
   },
   "outputs": [
    {
     "name": "stdout",
     "output_type": "stream",
     "text": [
      "Age =  21\n"
     ]
    }
   ],
   "source": [
    "# A tuple that contains (age, country, knows_python)\n",
    "survey = (21, \"Switzerland\", False)\n",
    "age, country, knows_python = survey\n",
    "print(\"Age = \", age)"
   ]
  },
  {
   "cell_type": "code",
   "execution_count": null,
   "id": "23b68f7c-2b40-4b2b-9f02-9e1bb1bfeb86",
   "metadata": {},
   "outputs": [],
   "source": []
  }
 ],
 "metadata": {
  "kernelspec": {
   "display_name": "Python 3 (ipykernel)",
   "language": "python",
   "name": "python3"
  },
  "language_info": {
   "codemirror_mode": {
    "name": "ipython",
    "version": 3
   },
   "file_extension": ".py",
   "mimetype": "text/x-python",
   "name": "python",
   "nbconvert_exporter": "python",
   "pygments_lexer": "ipython3",
   "version": "3.11.5"
  }
 },
 "nbformat": 4,
 "nbformat_minor": 5
}
