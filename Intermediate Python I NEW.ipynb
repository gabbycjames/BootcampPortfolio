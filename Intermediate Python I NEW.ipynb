{
 "cells": [
  {
   "cell_type": "code",
   "execution_count": 2,
   "id": "fc8bfcaf-330e-45d8-a026-eecdc4239150",
   "metadata": {
    "tags": []
   },
   "outputs": [
    {
     "name": "stdout",
     "output_type": "stream",
     "text": [
      "('tiger', 'cheetah', 'lion')\n"
     ]
    }
   ],
   "source": [
    "# Testing tuples\n",
    "big_cats = (\"tiger\", \"cheetah\", \"lion\")\n",
    "print(big_cats)"
   ]
  },
  {
   "cell_type": "code",
   "execution_count": 3,
   "id": "11c31a89-05a2-4115-b0cb-7883c7f152e2",
   "metadata": {
    "tags": []
   },
   "outputs": [
    {
     "name": "stdout",
     "output_type": "stream",
     "text": [
      "['cat', 'dog', 'turtle', 'rabbit', 'horse']\n"
     ]
    }
   ],
   "source": [
    "# Append a list onto a list\n",
    "animals = ['cat', 'dog', 'turtle']\n",
    "additional_animals = ['rabbit', 'horse']\n",
    "for x in additional_animals:\n",
    "    animals.append(x)\n",
    "print(animals)"
   ]
  },
  {
   "cell_type": "code",
   "execution_count": 1,
   "id": "87b5077b-31d5-45d3-a017-2b666eb9a9d9",
   "metadata": {
    "tags": []
   },
   "outputs": [
    {
     "name": "stdout",
     "output_type": "stream",
     "text": [
      "()\n",
      "(1,)\n",
      "(1, 2)\n",
      "(1, 2, 3)\n"
     ]
    }
   ],
   "source": [
    "# Tuples\n",
    "empty_tuple = ()\n",
    "test1 = (1,) # To make a tuple with just one element, you need to type a comma at the end.\n",
    "test2 = (1, 2)\n",
    "test3 = (1 ,2 , 3)\n",
    "\n",
    "print(empty_tuple)\n",
    "print(test1)\n",
    "print(test2)\n",
    "print(test3)"
   ]
  },
  {
   "cell_type": "code",
   "execution_count": 2,
   "id": "a3285960-5a19-470c-8630-46839d50de59",
   "metadata": {
    "tags": []
   },
   "outputs": [
    {
     "name": "stdout",
     "output_type": "stream",
     "text": [
      "Age =  21\n",
      "Country =  Switzerland\n",
      "Knows Python? False\n"
     ]
    }
   ],
   "source": [
    "# A tuple that contains (age, country, knows_python)\n",
    "survey = (21, \"Switzerland\", False)\n",
    "age, country, knows_python = survey\n",
    "print(\"Age = \", age)\n",
    "print(\"Country = \", country)\n",
    "print(\"Knows Python?\", knows_python)"
   ]
  },
  {
   "cell_type": "code",
   "execution_count": 10,
   "id": "23b68f7c-2b40-4b2b-9f02-9e1bb1bfeb86",
   "metadata": {
    "tags": []
   },
   "outputs": [
    {
     "name": "stdout",
     "output_type": "stream",
     "text": [
      "{False, 42, 3.14159, 'Thorium'}\n"
     ]
    }
   ],
   "source": [
    "# Sets\n",
    "example = set()\n",
    "# add method allows you to add to a set\n",
    "# Each item in a set is an element\n",
    "# Each item can only be added once\n",
    "example.add(42)\n",
    "example.add(False)\n",
    "example.add(3.14159)\n",
    "example.add(\"Thorium\")\n",
    "\n",
    "# remove method allows you to remove specific elements that are in the set\n",
    "# discard method also removes specific items. Nothing happens if element is not in the set\n",
    "\n",
    "print(example)"
   ]
  },
  {
   "cell_type": "code",
   "execution_count": 14,
   "id": "427162f0-a8b7-404c-88e9-bf798c10e999",
   "metadata": {
    "tags": []
   },
   "outputs": [
    {
     "name": "stdout",
     "output_type": "stream",
     "text": [
      "{1, 2, 3, 4, 5, 6, 7, 8, 9, 10}\n",
      "{1, 2, 3, 4, 5, 6, 7, 8, 9, 10}\n",
      "{3, 5, 7}\n"
     ]
    },
    {
     "data": {
      "text/plain": [
       "True"
      ]
     },
     "execution_count": 14,
     "metadata": {},
     "output_type": "execute_result"
    }
   ],
   "source": [
    "# Combining sets\n",
    "odds = set([1, 3, 5, 7, 9])\n",
    "evens = set([2, 4, 6, 8, 10])\n",
    "primes = set([2, 3, 5, 7])\n",
    "composites = set([4, 6, 8, 9, 10])\n",
    "\n",
    "#to add evens to odds\n",
    "print(odds.union(evens))\n",
    "\n",
    "# to add odds to evens\n",
    "print(evens.union(odds))\n",
    "\n",
    "# The union method does not affect the original odds or evens sets.\n",
    "\n",
    "# To examine the intersection of odds and prime numbers, use the intersection method\n",
    "print(odds.intersection(primes))\n",
    "\n",
    "# To test if a number is an element of a set, use \"in\"\n",
    "2 in primes # It will return True"
   ]
  },
  {
   "cell_type": "code",
   "execution_count": null,
   "id": "e9aa2bb9-7dd7-4193-bf0f-64ebc63db9dc",
   "metadata": {},
   "outputs": [],
   "source": []
  }
 ],
 "metadata": {
  "kernelspec": {
   "display_name": "Python 3 (ipykernel)",
   "language": "python",
   "name": "python3"
  },
  "language_info": {
   "codemirror_mode": {
    "name": "ipython",
    "version": 3
   },
   "file_extension": ".py",
   "mimetype": "text/x-python",
   "name": "python",
   "nbconvert_exporter": "python",
   "pygments_lexer": "ipython3",
   "version": "3.11.5"
  }
 },
 "nbformat": 4,
 "nbformat_minor": 5
}
