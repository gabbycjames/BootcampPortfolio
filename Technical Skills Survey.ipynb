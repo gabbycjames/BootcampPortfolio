{
 "cells": [
  {
   "cell_type": "code",
   "execution_count": 1,
   "id": "6037700d-a7d7-4740-bfe8-abda90e42946",
   "metadata": {
    "tags": []
   },
   "outputs": [],
   "source": [
    "from scipy.stats import poisson"
   ]
  },
  {
   "cell_type": "code",
   "execution_count": 2,
   "id": "645b125c-8dfb-4e0c-b327-03e2e5e0a01e",
   "metadata": {
    "tags": []
   },
   "outputs": [],
   "source": [
    "import pandas as pd\n",
    "import numpy as np"
   ]
  },
  {
   "cell_type": "code",
   "execution_count": 3,
   "id": "e53c96b5-43dc-4a88-93e8-063001e19591",
   "metadata": {
    "tags": []
   },
   "outputs": [],
   "source": [
    "import random"
   ]
  },
  {
   "cell_type": "code",
   "execution_count": 4,
   "id": "6bf4e242-db27-4b8c-9510-ab9dc8f74a51",
   "metadata": {
    "tags": []
   },
   "outputs": [],
   "source": [
    "from scipy.stats import expon"
   ]
  },
  {
   "cell_type": "code",
   "execution_count": 5,
   "id": "36324f29-b5cb-41a3-a666-f92fe011764e",
   "metadata": {
    "tags": []
   },
   "outputs": [],
   "source": [
    "import matplotlib.pyplot as plt"
   ]
  },
  {
   "cell_type": "code",
   "execution_count": 6,
   "id": "cdedb2ea-e4de-45df-9e46-8abf824d647d",
   "metadata": {
    "tags": []
   },
   "outputs": [
    {
     "name": "stdout",
     "output_type": "stream",
     "text": [
      "100\n"
     ]
    }
   ],
   "source": [
    "print(25 + 25 + 5 + 15 + 30)"
   ]
  },
  {
   "cell_type": "code",
   "execution_count": 7,
   "id": "8fc27d8c-566f-490f-ab1f-606101d45099",
   "metadata": {
    "tags": []
   },
   "outputs": [
    {
     "name": "stdout",
     "output_type": "stream",
     "text": [
      "20.0\n"
     ]
    }
   ],
   "source": [
    "print(100/5)"
   ]
  },
  {
   "cell_type": "code",
   "execution_count": 8,
   "id": "b0ac4a3c-a6ae-45b0-9781-4872b14b8ce3",
   "metadata": {
    "tags": []
   },
   "outputs": [
    {
     "name": "stdout",
     "output_type": "stream",
     "text": [
      "69\n"
     ]
    }
   ],
   "source": [
    "import statistics\n",
    "m_height = [69,68,67,71,70]\n",
    "m_average = statistics.mean(m_height)\n",
    "print(m_average)"
   ]
  },
  {
   "cell_type": "code",
   "execution_count": 12,
   "id": "fdb5eb84-a926-416e-b0d9-2ca492901941",
   "metadata": {
    "tags": []
   },
   "outputs": [
    {
     "name": "stdin",
     "output_type": "stream",
     "text": [
      " GABBY\n"
     ]
    },
    {
     "name": "stdout",
     "output_type": "stream",
     "text": [
      "y b\n"
     ]
    }
   ],
   "source": [
    "import sys\n",
    "inp = input()\n",
    "print(inp[-1].lower() + \" \" + inp[-2].lower())"
   ]
  },
  {
   "cell_type": "code",
   "execution_count": 1,
   "id": "493c0150-9337-453e-881f-85713d1bd83b",
   "metadata": {
    "tags": []
   },
   "outputs": [],
   "source": [
    "\n",
    "def grasshopper(N, M):\n",
    "    num_hops = 0\n",
    "    if N == M:\n",
    "        print(num_hops)\n",
    "    elif N % M == 0:\n",
    "        while M != N:\n",
    "            num_hops += 1\n",
    "            N +=N\n",
    "        print(num_hops)"
   ]
  },
  {
   "cell_type": "code",
   "execution_count": null,
   "id": "8a3546ac-50fa-4a58-9e30-d62bfaae500c",
   "metadata": {
    "tags": []
   },
   "outputs": [],
   "source": [
    "print(grasshopper(8, 4))"
   ]
  },
  {
   "cell_type": "code",
   "execution_count": null,
   "id": "c814bcae-d7bd-414c-ab88-66a52acbc6ca",
   "metadata": {
    "tags": []
   },
   "outputs": [],
   "source": [
    "def num_of_hops(n, m):\n",
    "    # n is flower distance\n",
    "    # m is hop distance\n",
    "    num_hops = 0\n",
    "    while n > 0:\n",
    "        if n - m >= 0:\n",
    "            n = n - m\n",
    "        else:\n",
    "            n = n - 1\n",
    "        num_hops += 1\n",
    "    return num_hops"
   ]
  },
  {
   "cell_type": "code",
   "execution_count": null,
   "id": "05117c2d-3124-464e-bc9a-af9c735340fd",
   "metadata": {
    "tags": []
   },
   "outputs": [],
   "source": [
    "print(num_of_hops(8, 3))"
   ]
  },
  {
   "cell_type": "code",
   "execution_count": null,
   "id": "9f437852-1ecf-46e1-83a7-281ac35eb71d",
   "metadata": {
    "tags": []
   },
   "outputs": [],
   "source": [
    "help(sys)"
   ]
  },
  {
   "cell_type": "code",
   "execution_count": null,
   "id": "883e929a-5a80-4f95-a989-4b24c87fc8e5",
   "metadata": {},
   "outputs": [],
   "source": []
  }
 ],
 "metadata": {
  "kernelspec": {
   "display_name": "Python 3 (ipykernel)",
   "language": "python",
   "name": "python3"
  },
  "language_info": {
   "codemirror_mode": {
    "name": "ipython",
    "version": 3
   },
   "file_extension": ".py",
   "mimetype": "text/x-python",
   "name": "python",
   "nbconvert_exporter": "python",
   "pygments_lexer": "ipython3",
   "version": "3.11.5"
  }
 },
 "nbformat": 4,
 "nbformat_minor": 5
}
