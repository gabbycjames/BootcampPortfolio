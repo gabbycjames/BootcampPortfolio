{
 "cells": [
  {
   "cell_type": "code",
   "execution_count": 4,
   "id": "74f2de7c-dfc8-408a-a1eb-3e984aed240b",
   "metadata": {
    "tags": []
   },
   "outputs": [],
   "source": [
    "# Creating a function\n",
    "def Greeting(name):\n",
    "    print(\"Hi \" + name + \"!\")"
   ]
  },
  {
   "cell_type": "code",
   "execution_count": 5,
   "id": "031069af-dc5d-4a62-928c-3c4292367b78",
   "metadata": {
    "tags": []
   },
   "outputs": [
    {
     "name": "stdout",
     "output_type": "stream",
     "text": [
      "Hi Gabby!\n"
     ]
    }
   ],
   "source": [
    "Greeting(\"Gabby\")"
   ]
  },
  {
   "cell_type": "code",
   "execution_count": 6,
   "id": "39911784-a46e-4dee-a5ba-1f4e203e4daa",
   "metadata": {
    "tags": []
   },
   "outputs": [],
   "source": [
    "def SumTwoNum(num1, num2):\n",
    "    print(num1 + num2)"
   ]
  },
  {
   "cell_type": "code",
   "execution_count": 7,
   "id": "c81e1a3a-8c60-48c0-a2ac-8f20019beac7",
   "metadata": {
    "tags": []
   },
   "outputs": [
    {
     "name": "stdout",
     "output_type": "stream",
     "text": [
      "25\n"
     ]
    }
   ],
   "source": [
    "SumTwoNum(10, 15)"
   ]
  },
  {
   "cell_type": "code",
   "execution_count": 9,
   "id": "925e0180-aca6-4585-b332-ab8803c8ee27",
   "metadata": {
    "tags": []
   },
   "outputs": [
    {
     "name": "stdout",
     "output_type": "stream",
     "text": [
      "26\n"
     ]
    }
   ],
   "source": [
    "# Return statement\n",
    "def ReturnSumTwoNum(num1, num2):\n",
    "    return (num1 + num2)\n",
    "sum = ReturnSumTwoNum(12, 14)\n",
    "print(sum)"
   ]
  },
  {
   "cell_type": "code",
   "execution_count": 15,
   "id": "821bc49a-c48b-4de5-bc99-ab44c790897b",
   "metadata": {
    "tags": []
   },
   "outputs": [
    {
     "name": "stdout",
     "output_type": "stream",
     "text": [
      "global x\n",
      "local x\n",
      "local x\n"
     ]
    }
   ],
   "source": [
    "# Variable scope\n",
    "# LEGB -- Local, Enclosing, Global, Built-in\n",
    "x = 'global x' # This is a global variable\n",
    "print(x) # Prints global x\n",
    "\n",
    "def exLEGB():\n",
    "    y = 'local y' # This is a local variable, meaning it only exists in the function\n",
    "    global x\n",
    "    x = 'local x' # This is a local variable, but the global x code updates it globally.\n",
    "    print(x) # Prints local x\n",
    "\n",
    "exLEGB()\n",
    "print(x) # Prints local x"
   ]
  },
  {
   "cell_type": "code",
   "execution_count": 24,
   "id": "814fdc08-7a29-4c18-a9d6-131fa34eca10",
   "metadata": {
    "tags": []
   },
   "outputs": [
    {
     "name": "stdout",
     "output_type": "stream",
     "text": [
      "1\n"
     ]
    }
   ],
   "source": [
    "# Variable scope - Built-in\n",
    "# Built-in functions in python\n",
    "m = min([5, 1, 4, 2, 3]) # Built-in function that returns the minimum\n",
    "print(m)"
   ]
  },
  {
   "cell_type": "code",
   "execution_count": 25,
   "id": "ee01a6e2-c6eb-464b-8a30-c1f52df5836d",
   "metadata": {
    "tags": []
   },
   "outputs": [],
   "source": [
    "import builtins # Built-in functions"
   ]
  },
  {
   "cell_type": "code",
   "execution_count": 26,
   "id": "a678dbc3-dde4-4eb5-92a4-67ed1b99a127",
   "metadata": {
    "tags": []
   },
   "outputs": [
    {
     "name": "stdout",
     "output_type": "stream",
     "text": [
      "['ArithmeticError', 'AssertionError', 'AttributeError', 'BaseException', 'BaseExceptionGroup', 'BlockingIOError', 'BrokenPipeError', 'BufferError', 'BytesWarning', 'ChildProcessError', 'ConnectionAbortedError', 'ConnectionError', 'ConnectionRefusedError', 'ConnectionResetError', 'DeprecationWarning', 'EOFError', 'Ellipsis', 'EncodingWarning', 'EnvironmentError', 'Exception', 'ExceptionGroup', 'False', 'FileExistsError', 'FileNotFoundError', 'FloatingPointError', 'FutureWarning', 'GeneratorExit', 'IOError', 'ImportError', 'ImportWarning', 'IndentationError', 'IndexError', 'InterruptedError', 'IsADirectoryError', 'KeyError', 'KeyboardInterrupt', 'LookupError', 'MemoryError', 'ModuleNotFoundError', 'NameError', 'None', 'NotADirectoryError', 'NotImplemented', 'NotImplementedError', 'OSError', 'OverflowError', 'PendingDeprecationWarning', 'PermissionError', 'ProcessLookupError', 'RecursionError', 'ReferenceError', 'ResourceWarning', 'RuntimeError', 'RuntimeWarning', 'StopAsyncIteration', 'StopIteration', 'SyntaxError', 'SyntaxWarning', 'SystemError', 'SystemExit', 'TabError', 'TimeoutError', 'True', 'TypeError', 'UnboundLocalError', 'UnicodeDecodeError', 'UnicodeEncodeError', 'UnicodeError', 'UnicodeTranslateError', 'UnicodeWarning', 'UserWarning', 'ValueError', 'Warning', 'ZeroDivisionError', '__IPYTHON__', '__build_class__', '__debug__', '__doc__', '__import__', '__loader__', '__name__', '__package__', '__spec__', 'abs', 'aiter', 'all', 'anext', 'any', 'ascii', 'bin', 'bool', 'breakpoint', 'bytearray', 'bytes', 'callable', 'chr', 'classmethod', 'compile', 'complex', 'copyright', 'credits', 'delattr', 'dict', 'dir', 'display', 'divmod', 'enumerate', 'eval', 'exec', 'execfile', 'filter', 'float', 'format', 'frozenset', 'get_ipython', 'getattr', 'globals', 'hasattr', 'hash', 'help', 'hex', 'id', 'input', 'int', 'isinstance', 'issubclass', 'iter', 'len', 'license', 'list', 'locals', 'map', 'max', 'memoryview', 'min', 'next', 'object', 'oct', 'open', 'ord', 'pow', 'print', 'property', 'range', 'repr', 'reversed', 'round', 'runfile', 'set', 'setattr', 'slice', 'sorted', 'staticmethod', 'str', 'sum', 'super', 'tuple', 'type', 'vars', 'zip']\n"
     ]
    }
   ],
   "source": [
    "print(dir(builtins)) # Shows the directory of built-ins"
   ]
  },
  {
   "cell_type": "code",
   "execution_count": 30,
   "id": "5f77f611-8762-4980-8201-eb0509250935",
   "metadata": {
    "tags": []
   },
   "outputs": [
    {
     "name": "stdout",
     "output_type": "stream",
     "text": [
      "outer x\n",
      "inner x\n",
      "inner x\n"
     ]
    }
   ],
   "source": [
    "# Variable scope - Enclosing\n",
    "def outer(): # this is the enclosing function\n",
    "    x = 'outer x'\n",
    "    print(x) # Prints outer x\n",
    "    \n",
    "    def inner():\n",
    "        nonlocal x\n",
    "        x = 'inner x'\n",
    "        print(x) # Prints 'inner x'\n",
    "        \n",
    "    inner()\n",
    "    print(x) # Prints 'inner x' bc the nonlocal function overrides the enclosing fucntion\n",
    "    \n",
    "outer()"
   ]
  },
  {
   "cell_type": "code",
   "execution_count": null,
   "id": "204b22b6-8e9a-4d7e-949a-f9e35bcfc564",
   "metadata": {},
   "outputs": [],
   "source": []
  }
 ],
 "metadata": {
  "kernelspec": {
   "display_name": "Python 3 (ipykernel)",
   "language": "python",
   "name": "python3"
  },
  "language_info": {
   "codemirror_mode": {
    "name": "ipython",
    "version": 3
   },
   "file_extension": ".py",
   "mimetype": "text/x-python",
   "name": "python",
   "nbconvert_exporter": "python",
   "pygments_lexer": "ipython3",
   "version": "3.11.5"
  }
 },
 "nbformat": 4,
 "nbformat_minor": 5
}
