{
 "cells": [
  {
   "cell_type": "code",
   "execution_count": 4,
   "id": "74f2de7c-dfc8-408a-a1eb-3e984aed240b",
   "metadata": {
    "tags": []
   },
   "outputs": [],
   "source": [
    "# Creating a function\n",
    "def Greeting(name):\n",
    "    print(\"Hi \" + name + \"!\")"
   ]
  },
  {
   "cell_type": "code",
   "execution_count": 5,
   "id": "031069af-dc5d-4a62-928c-3c4292367b78",
   "metadata": {
    "tags": []
   },
   "outputs": [
    {
     "name": "stdout",
     "output_type": "stream",
     "text": [
      "Hi Gabby!\n"
     ]
    }
   ],
   "source": [
    "Greeting(\"Gabby\")"
   ]
  },
  {
   "cell_type": "code",
   "execution_count": 6,
   "id": "39911784-a46e-4dee-a5ba-1f4e203e4daa",
   "metadata": {
    "tags": []
   },
   "outputs": [],
   "source": [
    "def SumTwoNum(num1, num2):\n",
    "    print(num1 + num2)"
   ]
  },
  {
   "cell_type": "code",
   "execution_count": 7,
   "id": "c81e1a3a-8c60-48c0-a2ac-8f20019beac7",
   "metadata": {
    "tags": []
   },
   "outputs": [
    {
     "name": "stdout",
     "output_type": "stream",
     "text": [
      "25\n"
     ]
    }
   ],
   "source": [
    "SumTwoNum(10, 15)"
   ]
  },
  {
   "cell_type": "code",
   "execution_count": 9,
   "id": "925e0180-aca6-4585-b332-ab8803c8ee27",
   "metadata": {
    "tags": []
   },
   "outputs": [
    {
     "name": "stdout",
     "output_type": "stream",
     "text": [
      "26\n"
     ]
    }
   ],
   "source": [
    "# Return statement\n",
    "def ReturnSumTwoNum(num1, num2):\n",
    "    return (num1 + num2)\n",
    "sum = ReturnSumTwoNum(12, 14)\n",
    "print(sum)"
   ]
  },
  {
   "cell_type": "code",
   "execution_count": 15,
   "id": "821bc49a-c48b-4de5-bc99-ab44c790897b",
   "metadata": {
    "tags": []
   },
   "outputs": [
    {
     "name": "stdout",
     "output_type": "stream",
     "text": [
      "global x\n",
      "local x\n",
      "local x\n"
     ]
    }
   ],
   "source": [
    "# Variable scope\n",
    "# LEGB -- Local, Enclosing, Global, Built-in\n",
    "x = 'global x' # This is a global variable\n",
    "print(x) # Prints global x\n",
    "\n",
    "def exLEGB():\n",
    "    y = 'local y' # This is a local variable, meaning it only exists in the function\n",
    "    global x\n",
    "    x = 'local x' # This is a local variable, but the global x code updates it globally.\n",
    "    print(x) # Prints local x\n",
    "\n",
    "exLEGB()\n",
    "print(x) # Prints local x"
   ]
  },
  {
   "cell_type": "code",
   "execution_count": 24,
   "id": "814fdc08-7a29-4c18-a9d6-131fa34eca10",
   "metadata": {
    "tags": []
   },
   "outputs": [
    {
     "name": "stdout",
     "output_type": "stream",
     "text": [
      "1\n"
     ]
    }
   ],
   "source": [
    "# Variable scope - Built-in\n",
    "# Built-in functions in python\n",
    "m = min([5, 1, 4, 2, 3]) # Built-in function that returns the minimum\n",
    "print(m)"
   ]
  },
  {
   "cell_type": "code",
   "execution_count": 25,
   "id": "ee01a6e2-c6eb-464b-8a30-c1f52df5836d",
   "metadata": {
    "tags": []
   },
   "outputs": [],
   "source": [
    "import builtins # Built-in functions"
   ]
  },
  {
   "cell_type": "code",
   "execution_count": 26,
   "id": "a678dbc3-dde4-4eb5-92a4-67ed1b99a127",
   "metadata": {
    "tags": []
   },
   "outputs": [
    {
     "name": "stdout",
     "output_type": "stream",
     "text": [
      "['ArithmeticError', 'AssertionError', 'AttributeError', 'BaseException', 'BaseExceptionGroup', 'BlockingIOError', 'BrokenPipeError', 'BufferError', 'BytesWarning', 'ChildProcessError', 'ConnectionAbortedError', 'ConnectionError', 'ConnectionRefusedError', 'ConnectionResetError', 'DeprecationWarning', 'EOFError', 'Ellipsis', 'EncodingWarning', 'EnvironmentError', 'Exception', 'ExceptionGroup', 'False', 'FileExistsError', 'FileNotFoundError', 'FloatingPointError', 'FutureWarning', 'GeneratorExit', 'IOError', 'ImportError', 'ImportWarning', 'IndentationError', 'IndexError', 'InterruptedError', 'IsADirectoryError', 'KeyError', 'KeyboardInterrupt', 'LookupError', 'MemoryError', 'ModuleNotFoundError', 'NameError', 'None', 'NotADirectoryError', 'NotImplemented', 'NotImplementedError', 'OSError', 'OverflowError', 'PendingDeprecationWarning', 'PermissionError', 'ProcessLookupError', 'RecursionError', 'ReferenceError', 'ResourceWarning', 'RuntimeError', 'RuntimeWarning', 'StopAsyncIteration', 'StopIteration', 'SyntaxError', 'SyntaxWarning', 'SystemError', 'SystemExit', 'TabError', 'TimeoutError', 'True', 'TypeError', 'UnboundLocalError', 'UnicodeDecodeError', 'UnicodeEncodeError', 'UnicodeError', 'UnicodeTranslateError', 'UnicodeWarning', 'UserWarning', 'ValueError', 'Warning', 'ZeroDivisionError', '__IPYTHON__', '__build_class__', '__debug__', '__doc__', '__import__', '__loader__', '__name__', '__package__', '__spec__', 'abs', 'aiter', 'all', 'anext', 'any', 'ascii', 'bin', 'bool', 'breakpoint', 'bytearray', 'bytes', 'callable', 'chr', 'classmethod', 'compile', 'complex', 'copyright', 'credits', 'delattr', 'dict', 'dir', 'display', 'divmod', 'enumerate', 'eval', 'exec', 'execfile', 'filter', 'float', 'format', 'frozenset', 'get_ipython', 'getattr', 'globals', 'hasattr', 'hash', 'help', 'hex', 'id', 'input', 'int', 'isinstance', 'issubclass', 'iter', 'len', 'license', 'list', 'locals', 'map', 'max', 'memoryview', 'min', 'next', 'object', 'oct', 'open', 'ord', 'pow', 'print', 'property', 'range', 'repr', 'reversed', 'round', 'runfile', 'set', 'setattr', 'slice', 'sorted', 'staticmethod', 'str', 'sum', 'super', 'tuple', 'type', 'vars', 'zip']\n"
     ]
    }
   ],
   "source": [
    "print(dir(builtins)) # Shows the directory of built-ins"
   ]
  },
  {
   "cell_type": "code",
   "execution_count": 30,
   "id": "5f77f611-8762-4980-8201-eb0509250935",
   "metadata": {
    "tags": []
   },
   "outputs": [
    {
     "name": "stdout",
     "output_type": "stream",
     "text": [
      "outer x\n",
      "inner x\n",
      "inner x\n"
     ]
    }
   ],
   "source": [
    "# Variable scope - Enclosing\n",
    "def outer(): # this is the enclosing function\n",
    "    x = 'outer x'\n",
    "    print(x) # Prints outer x\n",
    "    \n",
    "    def inner():\n",
    "        nonlocal x\n",
    "        x = 'inner x'\n",
    "        print(x) # Prints 'inner x'\n",
    "        \n",
    "    inner()\n",
    "    print(x) # Prints 'inner x' bc the nonlocal function overrides the enclosing fucntion\n",
    "    \n",
    "outer()"
   ]
  },
  {
   "cell_type": "code",
   "execution_count": 35,
   "id": "5ff0b6cd-177a-4ecf-917e-6bf41ce1fbf3",
   "metadata": {
    "tags": []
   },
   "outputs": [
    {
     "name": "stdout",
     "output_type": "stream",
     "text": [
      "Hello World ('abc',)\n",
      "hello world ('abc',) {'abc': 123}\n"
     ]
    }
   ],
   "source": [
    "# *Args and Kwags\n",
    "# *args is an argument collector\n",
    "def my_func(*args):\n",
    "    print(\"Hello World\", args)\n",
    "    # This allows us to pass in values, but not key value pairs\n",
    "my_func(\"abc\")\n",
    "\n",
    "def my_func2(*args, **kwargs):\n",
    "    print(\"hello world\", args, kwargs)\n",
    "my_func2(\"abc\", abc=123)\n",
    "\n",
    "# These are used for functions where we don't know all the details\n",
    "# These are also used for functions with many arguments"
   ]
  },
  {
   "cell_type": "code",
   "execution_count": 37,
   "id": "13165ef4-5bbc-4c5f-9b6c-cbc5d6f07fa4",
   "metadata": {
    "tags": []
   },
   "outputs": [
    {
     "data": {
      "text/plain": [
       "'Leonard Euler'"
      ]
     },
     "execution_count": 37,
     "metadata": {},
     "output_type": "execute_result"
    }
   ],
   "source": [
    "# Lambda Expressions\n",
    "full_name = lambda fn, ln: fn.strip().title() + \" \" + ln.strip().title()\n",
    "full_name(\" leonard\", \"EULER\") # Prints Leonard Euler"
   ]
  },
  {
   "cell_type": "code",
   "execution_count": 39,
   "id": "3965cc69-a71f-470a-b82e-4fec85d673ea",
   "metadata": {
    "tags": []
   },
   "outputs": [
    {
     "name": "stdout",
     "output_type": "stream",
     "text": [
      "['Douglas Adams', 'Isaac Asimov', 'Leigh Brackett', 'Ray Bradbury', 'Orson Scott Card', 'Authur C. Clarke', 'Robert Heinlein', 'Frank Herbert', 'H. G. Wells']\n"
     ]
    }
   ],
   "source": [
    "# Expression with no name Example\n",
    "scifi_authors = [\"Isaac Asimov\", \"Ray Bradbury\", \"Robert Heinlein\", \"Authur C. Clarke\", \"Frank Herbert\", \"Orson Scott Card\", \"Douglas Adams\", \"H. G. Wells\", \"Leigh Brackett\"]\n",
    "# We want to sort authors alphabetically by last name\n",
    "# Lists have a sort method. To learn how to use it, type help(scifi_authors.sort)\n",
    "scifi_authors.sort(key=lambda name: name.split(\" \")[-1].lower())\n",
    "print(scifi_authors)"
   ]
  },
  {
   "cell_type": "code",
   "execution_count": 49,
   "id": "b0318299-0b62-4206-995a-2005dbfbe444",
   "metadata": {
    "tags": []
   },
   "outputs": [
    {
     "name": "stdout",
     "output_type": "stream",
     "text": [
      "-5\n",
      "0\n",
      "9\n",
      "13\n"
     ]
    }
   ],
   "source": [
    "def build_quadratic_function(a, b, c):\n",
    "    \"\"\"Returns the function f(x) = ax^2 + bx + c\"\"\"\n",
    "    return lambda x: a*x**2 + b*x + c\n",
    "\n",
    "f = build_quadratic_function(2, 3, -5)\n",
    "print(f(0)) # Prints -5\n",
    "print(f(1)) # Prints 0\n",
    "print(f(2)) # Prints 9\n",
    "print(build_quadratic_function(3, 0, 1)(2)) # 3x^2 + 1 evaluated for x=2"
   ]
  },
  {
   "cell_type": "code",
   "execution_count": 53,
   "id": "2fa50302-bc92-49d6-9ad1-93cecd07377f",
   "metadata": {
    "tags": []
   },
   "outputs": [
    {
     "name": "stdout",
     "output_type": "stream",
     "text": [
      "[12.566370614359172, 78.53981633974483, 158.36768566746147, 0.2827433388230814, 314.1592653589793]\n"
     ]
    },
    {
     "data": {
      "text/plain": [
       "[12.566370614359172,\n",
       " 78.53981633974483,\n",
       " 158.36768566746147,\n",
       " 0.2827433388230814,\n",
       " 314.1592653589793]"
      ]
     },
     "execution_count": 53,
     "metadata": {},
     "output_type": "execute_result"
    }
   ],
   "source": [
    "# Map, Filter, and Reduce\n",
    "import math\n",
    "\n",
    "# Method 1: Direct method\n",
    "def area(r):\n",
    "    \"\"\"Area of a circle with radius 'r'.\"\"\"\n",
    "    return math.pi * (r**2)\n",
    "\n",
    "\n",
    "radii = [2, 5, 7.1, 0.3, 10]\n",
    "areas = []\n",
    "for r in radii:\n",
    "    a = area(r)\n",
    "    areas.append(a)\n",
    "print(areas)\n",
    "\n",
    "# Method 2: Use 'map' function\n",
    "map(area, radii) # Map object\n",
    "# Turn into a list\n",
    "list(map(area, radii))"
   ]
  },
  {
   "cell_type": "code",
   "execution_count": 54,
   "id": "37040781-54a9-425b-b030-5fc306420652",
   "metadata": {
    "tags": []
   },
   "outputs": [
    {
     "data": {
      "text/plain": [
       "[('Berlin', 84.2),\n",
       " ('Cairo', 96.8),\n",
       " ('Buenos Aires', 66.2),\n",
       " ('Los Angeles', 78.80000000000001),\n",
       " ('Tokyo', 80.6),\n",
       " ('New York', 82.4),\n",
       " ('London', 71.6),\n",
       " ('Beijing', 89.6)]"
      ]
     },
     "execution_count": 54,
     "metadata": {},
     "output_type": "execute_result"
    }
   ],
   "source": [
    "# Map function to change data in celsius to farenheit\n",
    "temps = [(\"Berlin\", 29), (\"Cairo\", 36), (\"Buenos Aires\", 19), (\"Los Angeles\", 26), (\"Tokyo\", 27), (\"New York\", 28), (\"London\", 22), (\"Beijing\", 32)] \n",
    "\n",
    "c_to_f = lambda data: (data[0], (9/5)*data[1] + 32)\n",
    "\n",
    "list(map(c_to_f, temps))"
   ]
  },
  {
   "cell_type": "code",
   "execution_count": 57,
   "id": "454c03cb-3fe0-4aff-b985-1ff7d1a8a3ac",
   "metadata": {
    "tags": []
   },
   "outputs": [
    {
     "data": {
      "text/plain": [
       "[2.7, 4.1, 4.3]"
      ]
     },
     "execution_count": 57,
     "metadata": {},
     "output_type": "execute_result"
    }
   ],
   "source": [
    "# Filter function (filters out data you do not need)\n",
    "import statistics\n",
    "\n",
    "data1 = [1.3, 2.7, 0.8, 4.1, 4.3, -0.1]\n",
    "avg = statistics.mean(data1)\n",
    "\n",
    "# Use filter function to select data that is greater than the average\n",
    "filter(lambda x:x > avg, data1)\n",
    "\n",
    "list(filter(lambda x:x > avg, data1))"
   ]
  },
  {
   "cell_type": "code",
   "execution_count": 58,
   "id": "c0a30499-1f4e-4d1e-97d9-e36901c1f104",
   "metadata": {
    "tags": []
   },
   "outputs": [
    {
     "data": {
      "text/plain": [
       "['Argentina', 'Brazil', 'Chile', 'Columbia', 'Ecuador', 'Venezuela']"
      ]
     },
     "execution_count": 58,
     "metadata": {},
     "output_type": "execute_result"
    }
   ],
   "source": [
    "# Filter function to filter out data with empty or missing values\n",
    "countries = [\"\", \"Argentina\", \"\", \"Brazil\", \"Chile\", \"\", \"Columbia\", \"\", \"Ecuador\", \"\", \"\", \"Venezuela\"]\n",
    "\n",
    "list(filter(None, countries))"
   ]
  },
  {
   "cell_type": "code",
   "execution_count": 62,
   "id": "a04cbcda-c058-4035-8ac6-e52954109151",
   "metadata": {
    "tags": []
   },
   "outputs": [],
   "source": [
    "import functools"
   ]
  },
  {
   "cell_type": "code",
   "execution_count": 65,
   "id": "ba46e105-fe89-4df2-bb50-ce7d123933bb",
   "metadata": {
    "tags": []
   },
   "outputs": [
    {
     "data": {
      "text/plain": [
       "6469693230"
      ]
     },
     "execution_count": 65,
     "metadata": {},
     "output_type": "execute_result"
    }
   ],
   "source": [
    "# Reduce function\n",
    "# Multiply all numbers in a list\n",
    "\n",
    "data2 = [2, 3, 5, 7, 11, 13, 17, 19, 23, 29]\n",
    "multiplier = lambda x, y: x*y\n",
    "functools.reduce(multiplier, data2)"
   ]
  },
  {
   "cell_type": "code",
   "execution_count": 66,
   "id": "8d01b31b-1658-4328-ad16-82fe090434ee",
   "metadata": {
    "tags": []
   },
   "outputs": [],
   "source": [
    "# Exceptions\n",
    "# Objective: Write a function that reads binary file and returns data\n",
    "# Objective 2: Measure time required\n",
    "\n",
    "import logging\n",
    "import time\n",
    "\n",
    "# Create logger\n",
    "logging.basicConfig(filename = \"E:\\\\python_lessons\\\\problems.log\", level = logging.DEBUG)\n",
    "logger = logging.getLogger()\n",
    "\n",
    "def read_file_timed(path):\n",
    "    \"\"\"Return the contents of the file at 'path' and measure time required.\"\"\"\n",
    "    start_time = time.time()\n",
    "    try:\n",
    "        f = open(path, mode=\"rb\")\n",
    "        data = f.read()\n",
    "        return data\n",
    "    except FileNotFoundError as err:\n",
    "        logger.error(err)\n",
    "        raise\n",
    "    else:\n",
    "        f.close()\n",
    "    finally:\n",
    "        stop_time = time.time()\n",
    "        dt = stop_time - start_time\n",
    "        logger.info(\"Time required for {file} = {time}\".format(file=path, time=dt))\n",
    "        \n"
   ]
  },
  {
   "cell_type": "code",
   "execution_count": 68,
   "id": "82cc49b5-247e-4b9a-9d69-b8527cb34353",
   "metadata": {
    "tags": []
   },
   "outputs": [
    {
     "name": "stdout",
     "output_type": "stream",
     "text": [
      "2\n",
      "9\n",
      "9\n",
      "7\n",
      "9\n",
      "2\n",
      "4\n",
      "5\n",
      "8\n"
     ]
    }
   ],
   "source": [
    "# 7.6 Iterators\n",
    "# To iterate over a number\n",
    "c = 299792458\n",
    "digits = [int(d) for d in str(c)]\n",
    "\n",
    "for digit in digits:\n",
    "    print(digit)"
   ]
  },
  {
   "cell_type": "code",
   "execution_count": 70,
   "id": "4e3ea4eb-a869-4868-b775-8c62b01a7332",
   "metadata": {
    "tags": []
   },
   "outputs": [
    {
     "data": {
      "text/plain": [
       "tuple_iterator"
      ]
     },
     "execution_count": 70,
     "metadata": {},
     "output_type": "execute_result"
    }
   ],
   "source": [
    "# 7.6 Iterators\n",
    "usernames = ('Rainer', 'Alfons', 'Flatsheep')\n",
    "looper1 = usernames.__iter__()\n",
    "type(looper1)"
   ]
  },
  {
   "cell_type": "code",
   "execution_count": 75,
   "id": "38600f5d-17b7-4ba9-9261-00347a8b68a5",
   "metadata": {
    "tags": []
   },
   "outputs": [
    {
     "ename": "StopIteration",
     "evalue": "",
     "output_type": "error",
     "traceback": [
      "\u001b[0;31m---------------------------------------------------------------------------\u001b[0m",
      "\u001b[0;31mStopIteration\u001b[0m                             Traceback (most recent call last)",
      "Cell \u001b[0;32mIn[75], line 1\u001b[0m\n\u001b[0;32m----> 1\u001b[0m looper1\u001b[38;5;241m.\u001b[39m\u001b[38;5;21m__next__\u001b[39m()\n",
      "\u001b[0;31mStopIteration\u001b[0m: "
     ]
    }
   ],
   "source": [
    "looper1.__next__() # Prints the next element. Error if run too many times"
   ]
  },
  {
   "cell_type": "code",
   "execution_count": 77,
   "id": "aa4e9615-019b-46b6-aa18-e16543d99d03",
   "metadata": {
    "tags": []
   },
   "outputs": [
    {
     "data": {
      "text/plain": [
       "'Rainer'"
      ]
     },
     "execution_count": 77,
     "metadata": {},
     "output_type": "execute_result"
    }
   ],
   "source": [
    "looper2 = iter(usernames)\n",
    "next(looper2) # Prints the next element until end where it returns an error"
   ]
  },
  {
   "cell_type": "code",
   "execution_count": 79,
   "id": "bf7bc58e-0d30-4314-b158-016acf1828b3",
   "metadata": {
    "tags": []
   },
   "outputs": [
    {
     "name": "stdout",
     "output_type": "stream",
     "text": [
      "laust\n",
      "LeoMoon\n",
      "JennaSys\n",
      "dgletts\n"
     ]
    }
   ],
   "source": [
    "# Example of iterators\n",
    "users = ['laust', 'LeoMoon', 'JennaSys', 'dgletts']\n",
    "\n",
    "#for user in users:\n",
    "#    print(user)\n",
    "\n",
    "looper = iter(users)\n",
    "while True:\n",
    "    try:\n",
    "        user = next(looper)\n",
    "        print(user)\n",
    "    except StopIteration:\n",
    "        break"
   ]
  },
  {
   "cell_type": "code",
   "execution_count": 80,
   "id": "a6752c9e-c146-4a42-b2ae-39614abb6905",
   "metadata": {
    "tags": []
   },
   "outputs": [
    {
     "name": "stdout",
     "output_type": "stream",
     "text": [
      "VTI 15\n",
      "SLI 23\n",
      "VWAGY 9\n",
      "SOFI 20\n"
     ]
    }
   ],
   "source": [
    "class Portfolio:\n",
    "    def __init__(self):\n",
    "        self.holdings = {} # Key = ticket, Value = number of shares\n",
    "    def buy(self, ticker, shares):\n",
    "        self.holdings[ticker] = self.holdings.get(ticker, 0) + shares\n",
    "    def sell(self, ticker, shares):\n",
    "        self.holdings[ticker] = self.holdings(ticker, 0) - shares\n",
    "    def __iter__(self):\n",
    "        return iter(self.holdings.items())\n",
    "\n",
    "p = Portfolio()\n",
    "p.buy('VTI', 15)\n",
    "p.buy('SLI', 23)\n",
    "p.buy('VWAGY', 9)\n",
    "p.buy('SOFI', 20)\n",
    "\n",
    "for (ticker, shares) in p:\n",
    "    print(ticker, shares)"
   ]
  },
  {
   "cell_type": "code",
   "execution_count": 81,
   "id": "efd52e85-68d5-49ba-bb1e-44d20feea332",
   "metadata": {
    "tags": []
   },
   "outputs": [
    {
     "name": "stdout",
     "output_type": "stream",
     "text": [
      "The number of 5-card poker hands is 2598960.\n"
     ]
    }
   ],
   "source": [
    "import itertools\n",
    "\n",
    "ranks = list(range(2, 11)) + ['J', 'Q', 'K', 'A']\n",
    "ranks = [str(rank) for rank in ranks]\n",
    "\n",
    "suits = ['Hearts', 'Clubs', 'Diamonds', 'Spades']\n",
    "deck = [card for card in itertools.product(ranks, suits)]\n",
    "\n",
    "#for (index, card) in enumerate(deck):\n",
    "#    print(1 + index, card) # Checks to make sure all cards are included\n",
    "\n",
    "hands = [hand for hand in itertools.combinations(deck, 5)]\n",
    "\n",
    "print(f\"The number of 5-card poker hands is {len(hands)}.\")"
   ]
  },
  {
   "cell_type": "code",
   "execution_count": 87,
   "id": "8df00c12-1537-4d0f-9fae-27d905bef2c8",
   "metadata": {
    "tags": []
   },
   "outputs": [
    {
     "data": {
      "text/plain": [
       "[(10000, 'small', 'red'), (20000, 'large', 'blue'), (15000, 'medium', '?')]"
      ]
     },
     "execution_count": 87,
     "metadata": {},
     "output_type": "execute_result"
    }
   ],
   "source": [
    "# Zip function\n",
    "prices = [10000, 20000, 15000]\n",
    "car_sizes = ['small', 'large', 'medium']\n",
    "colors = ['red', 'blue']\n",
    "\n",
    "list(zip(prices, car_sizes))\n",
    "\n",
    "from itertools import zip_longest\n",
    "\n",
    "list(zip_longest(prices, car_sizes, colors, fillvalue = \"?\"))"
   ]
  },
  {
   "cell_type": "code",
   "execution_count": 89,
   "id": "d464053f-30dd-4f0a-aa40-1eca15f35a4e",
   "metadata": {
    "tags": []
   },
   "outputs": [
    {
     "data": {
      "text/plain": [
       "10000"
      ]
     },
     "execution_count": 89,
     "metadata": {},
     "output_type": "execute_result"
    }
   ],
   "source": [
    "list(zip(prices))[0][0] # Gets the price (not in a tuple) of the index passed."
   ]
  },
  {
   "cell_type": "code",
   "execution_count": null,
   "id": "4bf34a83-c807-43c2-a042-6d1f93486a35",
   "metadata": {},
   "outputs": [],
   "source": []
  }
 ],
 "metadata": {
  "kernelspec": {
   "display_name": "Python 3 (ipykernel)",
   "language": "python",
   "name": "python3"
  },
  "language_info": {
   "codemirror_mode": {
    "name": "ipython",
    "version": 3
   },
   "file_extension": ".py",
   "mimetype": "text/x-python",
   "name": "python",
   "nbconvert_exporter": "python",
   "pygments_lexer": "ipython3",
   "version": "3.11.5"
  }
 },
 "nbformat": 4,
 "nbformat_minor": 5
}
