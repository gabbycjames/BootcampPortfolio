{
 "cells": [
  {
   "cell_type": "code",
   "execution_count": 1,
   "id": "8440ed39-e912-4576-9e88-3ad64489c771",
   "metadata": {
    "tags": []
   },
   "outputs": [],
   "source": [
    "from scipy.stats import poisson"
   ]
  },
  {
   "cell_type": "code",
   "execution_count": 2,
   "id": "3f07fdb0-33b4-4b82-90cf-473a049b0e44",
   "metadata": {
    "tags": []
   },
   "outputs": [],
   "source": [
    "import pandas as pd\n",
    "import numpy as np"
   ]
  },
  {
   "cell_type": "code",
   "execution_count": 3,
   "id": "e905dc96-42f8-446a-9fc4-2e0c39c6a096",
   "metadata": {
    "tags": []
   },
   "outputs": [],
   "source": [
    "import random"
   ]
  },
  {
   "cell_type": "code",
   "execution_count": 4,
   "id": "c8b77cf2-23d2-43b0-8b2b-dbe89915284c",
   "metadata": {
    "tags": []
   },
   "outputs": [],
   "source": [
    "from scipy.stats import expon"
   ]
  },
  {
   "cell_type": "code",
   "execution_count": 5,
   "id": "8d87feb9-46a0-4c3f-983a-b28a483bae37",
   "metadata": {
    "tags": []
   },
   "outputs": [],
   "source": [
    "import matplotlib.pyplot as plt"
   ]
  },
  {
   "cell_type": "code",
   "execution_count": 6,
   "id": "42206839-c92d-4ad7-b11a-53076bad12ae",
   "metadata": {
    "tags": []
   },
   "outputs": [
    {
     "name": "stdout",
     "output_type": "stream",
     "text": [
      "100\n"
     ]
    }
   ],
   "source": [
    "print(25 + 25 + 5 + 15 + 30)"
   ]
  },
  {
   "cell_type": "code",
   "execution_count": 7,
   "id": "6eae5502-0c01-4484-bbe3-2eb67e1a9985",
   "metadata": {
    "tags": []
   },
   "outputs": [
    {
     "name": "stdout",
     "output_type": "stream",
     "text": [
      "20.0\n"
     ]
    }
   ],
   "source": [
    "print(100/5)"
   ]
  },
  {
   "cell_type": "code",
   "execution_count": 8,
   "id": "7cdaf0d6-9b41-4b84-8f97-e224906e568a",
   "metadata": {
    "tags": []
   },
   "outputs": [
    {
     "name": "stdout",
     "output_type": "stream",
     "text": [
      "69\n"
     ]
    }
   ],
   "source": [
    "import statistics\n",
    "m_height = [69,68,67,71,70]\n",
    "m_average = statistics.mean(m_height)\n",
    "print(m_average)"
   ]
  },
  {
   "cell_type": "code",
   "execution_count": 9,
   "id": "fa7ed4cf-dfc1-497a-8a0c-87ddf823a085",
   "metadata": {
    "tags": []
   },
   "outputs": [
    {
     "name": "stdin",
     "output_type": "stream",
     "text": [
      " GSBBTRSS\n"
     ]
    },
    {
     "name": "stdout",
     "output_type": "stream",
     "text": [
      "s s\n"
     ]
    }
   ],
   "source": [
    "import sys\n",
    "inp = input()\n",
    "print(inp[-1].lower() + \" \" + inp[-2].lower())"
   ]
  },
  {
   "cell_type": "code",
   "execution_count": 10,
   "id": "163f64d6-ed4e-4072-baf6-eaaeda9b8aea",
   "metadata": {
    "tags": []
   },
   "outputs": [],
   "source": [
    "\n",
    "def grasshopper(N, M):\n",
    "    num_hops = 0\n",
    "    if N == M:\n",
    "        print(num_hops)\n",
    "    elif N % M == 0:\n",
    "        while M != N:\n",
    "            num_hops += 1\n",
    "            N +=N\n",
    "        print(num_hops)"
   ]
  },
  {
   "cell_type": "code",
   "execution_count": null,
   "id": "3114b464-4693-44b6-b598-f9ff7da97b47",
   "metadata": {
    "tags": []
   },
   "outputs": [],
   "source": [
    "print(grasshopper(8, 4))"
   ]
  },
  {
   "cell_type": "code",
   "execution_count": null,
   "id": "ab5df8b5-e302-4f8d-b943-183322686666",
   "metadata": {
    "tags": []
   },
   "outputs": [],
   "source": [
    "def num_of_hops(n, m):\n",
    "    # n is flower distance\n",
    "    # m is hop distance\n",
    "    num_hops = 0\n",
    "    while n > 0:\n",
    "        if n - m >= 0:\n",
    "            n = n - m\n",
    "        else:\n",
    "            n = n - 1\n",
    "        num_hops += 1\n",
    "    return num_hops"
   ]
  },
  {
   "cell_type": "code",
   "execution_count": null,
   "id": "e038c0ca-0a13-4bad-b309-ee0a01235cc0",
   "metadata": {
    "tags": []
   },
   "outputs": [],
   "source": [
    "print(num_of_hops(8, 3))"
   ]
  },
  {
   "cell_type": "code",
   "execution_count": 5,
   "id": "a4179550-ad8e-4403-96c2-4e8a938031db",
   "metadata": {
    "tags": []
   },
   "outputs": [
    {
     "ename": "NameError",
     "evalue": "name 'sys' is not defined",
     "output_type": "error",
     "traceback": [
      "\u001b[0;31m---------------------------------------------------------------------------\u001b[0m",
      "\u001b[0;31mNameError\u001b[0m                                 Traceback (most recent call last)",
      "Cell \u001b[0;32mIn[5], line 1\u001b[0m\n\u001b[0;32m----> 1\u001b[0m help(sys)\n",
      "\u001b[0;31mNameError\u001b[0m: name 'sys' is not defined"
     ]
    }
   ],
   "source": [
    "help(sys)"
   ]
  }
 ],
 "metadata": {
  "kernelspec": {
   "display_name": "Python 3 (ipykernel)",
   "language": "python",
   "name": "python3"
  },
  "language_info": {
   "codemirror_mode": {
    "name": "ipython",
    "version": 3
   },
   "file_extension": ".py",
   "mimetype": "text/x-python",
   "name": "python",
   "nbconvert_exporter": "python",
   "pygments_lexer": "ipython3",
   "version": "3.11.5"
  }
 },
 "nbformat": 4,
 "nbformat_minor": 5
}
